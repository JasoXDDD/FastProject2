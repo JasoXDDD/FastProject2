{
 "cells": [
  {
   "attachments": {},
   "cell_type": "markdown",
   "metadata": {},
   "source": [
    "#  Frontend Blog\n",
    "> A blog on frontend editing\n",
    "- toc: true"
   ]
  },
  {
   "attachments": {},
   "cell_type": "markdown",
   "metadata": {},
   "source": [
    "## Frontend Viewing\n",
    "![How the table looks on the website](ghtop_images/FrontendViewHealthiest.png)\n",
    "## Frontend Code\n",
    "![What the table looks like from the inside](ghtop_images/FrontendViewCode.png)"
   ]
  },
  {
   "attachments": {},
   "cell_type": "markdown",
   "metadata": {},
   "source": [
    "## What this view is\n",
    "This table aims to provide people with information on the nutrients on the fastfood industry. With the adding, updating and deleting of the information of the food items. The table will be updated by using the top table to add fast food entries, and the bottom table for updating and deleting the entries\n",
    "\n",
    "## How the view works (or is going to work)\n",
    "The view is made from a mix of html and javascript. The Insert New Food Item part can have inputs that can be used to create a food item and all of its nutrients. The button is linked to a javascript function that will place the food item into a backend server, which will then place the items into the table below. Currently this function still does not work, since this is still a prototype. In the future, I will try to make sending of the json to and from the backend server available."
   ]
  }
 ],
 "metadata": {
  "kernelspec": {
   "display_name": "Python 3",
   "language": "python",
   "name": "python3"
  },
  "language_info": {
   "name": "python",
   "version": "3.8.10 (default, Jun 22 2022, 20:18:18) \n[GCC 9.4.0]"
  },
  "orig_nbformat": 4,
  "vscode": {
   "interpreter": {
    "hash": "916dbcbb3f70747c44a77c7bcd40155683ae19c65e1c03b4aa3499c5328201f1"
   }
  }
 },
 "nbformat": 4,
 "nbformat_minor": 2
}
