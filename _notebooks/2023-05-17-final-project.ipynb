{
 "cells": [
  {
   "cell_type": "code",
   "execution_count": null,
   "metadata": {},
   "outputs": [],
   "source": [
    "function drawLine(c, begin, end, color = 'black', width = 1) {\n",
    "    if (color) {\n",
    "        c.strokeStyle = color;\n",
    "    }\n",
    "\n",
    "    if (width) {\n",
    "        c.lineWidth = width;\n",
    "    }\n",
    "\n",
    "    c.beginPath();\n",
    "    c.moveTo(...begin);\n",
    "    c.lineTo(...end);\n",
    "    c.stroke();\n",
    "}"
   ]
  },
  {
   "cell_type": "code",
   "execution_count": null,
   "metadata": {},
   "outputs": [],
   "source": [
    "const canvas = document.querySelector('#canvas');\n",
    "if (canvas.getContext) {\n",
    "    const c = canvas.getContext('2d');\n",
    "    drawLine(c, [50, 100], [100, 300], 'red', 5);\n",
    "}"
   ]
  },
  {
   "cell_type": "code",
   "execution_count": null,
   "metadata": {},
   "outputs": [],
   "source": [
    "function totDistance(points){\n",
    "    start=points[0];\n",
    "    ans = 0;\n",
    "    for (i=1;i<points.length;i++){\n",
    "        ans+=Math.sqrt((start[0]-points[i][0])**2+(start[1]-points[i][1])**2);\n",
    "        start=points[i];\n",
    "    }\n",
    "    return ans;\n",
    "}"
   ]
  },
  {
   "cell_type": "code",
   "execution_count": null,
   "metadata": {},
   "outputs": [],
   "source": [
    "example_points=[\n",
    "    [0,1],\n",
    "    [1,3],\n",
    "    [4,5],\n",
    "    [6,2]\n",
    "]"
   ]
  }
 ],
 "metadata": {
  "kernelspec": {
   "display_name": "JavaScript (Node.js)",
   "language": "javascript",
   "name": "javascript"
  },
  "language_info": {
   "name": "javascript"
  },
  "orig_nbformat": 4
 },
 "nbformat": 4,
 "nbformat_minor": 2
}
