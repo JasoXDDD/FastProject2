{
 "cells": [
  {
   "cell_type": "code",
   "execution_count": null,
   "metadata": {
    "vscode": {
     "languageId": "javascript"
    }
   },
   "outputs": [],
   "source": [
    "function drawLine(c, begin, end, color = 'black', width = 1) {\n",
    "    if (color) {\n",
    "        c.strokeStyle = color;\n",
    "    }\n",
    "\n",
    "    if (width) {\n",
    "        c.lineWidth = width;\n",
    "    }\n",
    "\n",
    "    c.beginPath();\n",
    "    c.moveTo(...begin);\n",
    "    c.lineTo(...end);\n",
    "    c.stroke();\n",
    "}"
   ]
  },
  {
   "cell_type": "code",
   "execution_count": null,
   "metadata": {
    "vscode": {
     "languageId": "javascript"
    }
   },
   "outputs": [],
   "source": [
    "const canvas = document.querySelector('#canvas');\n",
    "if (canvas.getContext) {\n",
    "    const c = canvas.getContext('2d');\n",
    "    drawLine(c, [50, 100], [100, 300], 'red', 5);\n",
    "}"
   ]
  }
 ],
 "metadata": {
  "language_info": {
   "name": "python"
  },
  "orig_nbformat": 4
 },
 "nbformat": 4,
 "nbformat_minor": 2
}
