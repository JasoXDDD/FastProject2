{
 "cells": [
  {
   "cell_type": "markdown",
   "metadata": {},
   "source": [
    "# App Lab Log\n",
    "> A Log of my quiz project in [App Labs](https://studio.code.org/home).\n",
    "\n",
    "- toc: true \n",
    "- badges: true\n",
    "- comments: true\n",
    "- categories: [jupyter]\n",
    "- image: images/chart-preview.png"
   ]
  },
  {
   "cell_type": "markdown",
   "metadata": {},
   "source": [
    "## Outline\n",
    "Here is my outline:\n",
    "3 Questions, with one right answers each\n",
    "* Getting questions right go to the correct page and 1 score, incorrect page if not right\n",
    "* End screen depending on score\n",
    "* Coins to show number of correct problems\n",
    "* Question #1: What is the 5th offical level in Geometry Dash?\n",
    "    * Answer is in format of image + text, click on the text\n",
    "    * The Answer is Base to Base\n",
    "    * Three other answers\n",
    "        1. Stereo Madness\n",
    "        2. Can't Let Go (without apostrophe for memes)\n",
    "        3. Jumper (My first guess)\n",
    "* Question #2: How many Gold Coins are in the game currently?\n",
    "    * Text only answer choices\n",
    "    * 149 coins (why robtop)\n",
    "    * Other answers: 63, 99, 168\n",
    "* Question #3: Which of these parts belong in Clutterfunk?\n",
    "    * Image only answers\n",
    "    * Correct answer is the one in bottom right\n",
    "    * Other parts from Cycles, xStep, and Theory of Everything (ToE)"
   ]
  },
  {
   "cell_type": "markdown",
   "metadata": {},
   "source": [
    "## Logs\n",
    "The following are logs of my progress each day"
   ]
  },
  {
   "cell_type": "markdown",
   "metadata": {},
   "source": [
    "### Day 1 - 9/9/2022\n",
    "I made a remix of the example, Renamed it to Geometry Dash Quiz\n",
    "\n",
    "I also created the title screen, replaced the image with the GD logo and wrote the title text\n",
    "\n",
    "I made a score variable to track the questions I got correct.\n",
    "\n",
    "I made the Question and Options for the questions\n",
    "Note: it turns out that the GD wiki uses .webm files, which can't be used, I had to use thumbnails instead\n",
    "\n",
    "I made the Incorrect and Correct Screens, and linked the options on problem #1 to their options: correct options to the correct screen and incorrect to the incorrect screen, with the level complete screen and dying at the first spike in stereo madness screen respectively.\n",
    "\n",
    "I ran into a problem, I don't want to make a separate screen after each problem, but I can't find a way to make it link to different screens.\n",
    "\n",
    "Summary:\n",
    "Overall pretty good progress, but I need to do something about the screen problem."
   ]
  },
  {
   "cell_type": "markdown",
   "metadata": {},
   "source": [
    "### Day 2 - 9/11/2022\n",
    "I had to do something else last day, so this is my second day doing the project.\n",
    "\n",
    "I figured out the solution to the problem. All I had to do is to store the id for the screen in a list and make a variable for the question that I was on, then I can just go to the question by using the variable as an index for the lsit, which would go to the right screen. I have yet to test this but it should work in theory.\n",
    "\n",
    "Alright, it worked, so I have to link the rest of the options now.\n",
    "\n",
    "There has to be a faster way to do this\n",
    "\n",
    "It turns out text mode is great for copying and pasting options that are basically the same, so I used that to make a OnClick event for every option.\n",
    "\n",
    "I made the screens for each of the scores possible, and used the list of ids trick to link the continue button to the endscreen with the score variable as index when the question variable is not less than 3, which means the player had just finished the 3rd problem.\n",
    "\n",
    "It's getting late, so I will do the debugging tomorrow.\n",
    "\n",
    "Summary:\n",
    "Pretty much done with the project, only debugging left to go."
   ]
  },
  {
   "cell_type": "markdown",
   "metadata": {},
   "source": [
    "### Day 3 - 9/12/2022\n",
    "I'm technically supposed to be done already, but I can use the Office Hour time to debug\n",
    "\n",
    "There is a bug where getting one problem correct would link to the 0 coins screen.\n",
    "\n",
    "A quick check and I figured the problem was that the list for the end screens is wrong, I fixed and it seemed to work now\n",
    "\n",
    "Another bug, getting the last question wrong returns an error.\n",
    "\n",
    "I figured it out after some logging, I had to have the go to endscreen code for both of the continue buttons.\n",
    "\n",
    "It seems to be all working now, so that's good.\n",
    "\n",
    "Summary:\n",
    "Finished Debugging, hopefully this is good for the full score."
   ]
  },
  {
   "cell_type": "markdown",
   "metadata": {},
   "source": [
    "### Day 4 - 9/13/2022\n",
    "I noticed I forgot to remove the stretched GD logo from title screen after a failed attempt at creating the title screen, I quickly removed that, this should be all good now\n",
    "\n",
    "My log is not showing why\n",
    "\n",
    "I found that my log is not showing because I put the first cell in this log as code, so I copied that over\n",
    "\n",
    "Summary:\n",
    "One quick UI fix and logging fix before the end, that's good."
   ]
  }
 ],
 "metadata": {
  "kernelspec": {
   "display_name": "JavaScript (Node.js)",
   "language": "javascript",
   "name": "javascript"
  },
  "language_info": {
   "name": "javascript",
   "version": "3.8.10"
  },
  "orig_nbformat": 4,
  "vscode": {
   "interpreter": {
    "hash": "916dbcbb3f70747c44a77c7bcd40155683ae19c65e1c03b4aa3499c5328201f1"
   }
  }
 },
 "nbformat": 4,
 "nbformat_minor": 2
}
