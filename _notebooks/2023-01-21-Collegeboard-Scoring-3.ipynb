{
 "cells": [
  {
   "attachments": {},
   "cell_type": "markdown",
   "metadata": {},
   "source": [
    "#  Collegeboard Scoring 3"
   ]
  },
  {
   "attachments": {},
   "cell_type": "markdown",
   "metadata": {},
   "source": [
    "## Sample 1\n",
    "\n",
    "|Catergory      |Score        |Comments                             |\n",
    "|---------------|-------------|-------------------------------------|\n",
    "|Purpose        |1            |The written response did both state the purpose and functionality of the program, and the program illustrates this purpose.|\n",
    "|Data Abstraction|0           |The Data is shown being stored in a list, but the list is not shown to be accessed in the next part.|\n",
    "|Managing Complexity|0        |There is a list, but it is not shown to be used to manage complexity, also, the program did not demonstrate how the program will be more complex without the use of the list.|\n",
    "|Procedural Abstraction|1     |The program shows an procedure, and how it is used in the program.|\n",
    "|Algorithm Implementation|1   |The program and how it demonstrates use of sequence, iteration, and selection, and demonstrates how it is called.|\n",
    "|Testing        |1            |The video and the response shows evidence of testing as well as demonstration of what would happen for all of the conditions.|\n",
    "|Total          |4/6          | |\n",
    "\n",
    "I did not notice that the response did not state how does the procedure contribute to the original program. I will be sure to avoid this mistake in the future."
   ]
  },
  {
   "attachments": {},
   "cell_type": "markdown",
   "metadata": {},
   "source": [
    "## Sample 2\n",
    "\n",
    "|Catergory      |Score        |Comments                             |\n",
    "|---------------|-------------|-------------------------------------|\n",
    "|Purpose        |1            |The written response did both state the purpose and functionality of the program, and the program illustrates this purpose.|\n",
    "|Data Abstraction|1           |The Data is shown being stored in a list, and is shown to be accessed in the next part.|\n",
    "|Managing Complexity|1        |There is a list, and it is shown to be able to be used effectively to reduce the complexity needed for another program to have the same function|\n",
    "|Procedural Abstraction|1     |The program shows an procedure, and how it is used in the program.|\n",
    "|Algorithm Implementation|1   |The program and how it demonstrates use of sequence, iteration, and selection, and demonstrates how it is called.|\n",
    "|Testing        |1            |The video and the response shows evidence of testing as well as demonstration of what would happen for all of the conditions.|\n",
    "|Total          |6/6          | |\n"
   ]
  },
  {
   "attachments": {},
   "cell_type": "markdown",
   "metadata": {},
   "source": [
    "## Sample 3\n",
    "\n",
    "|Catergory      |Score        |Comments                             |\n",
    "|---------------|-------------|-------------------------------------|\n",
    "|Purpose        |1            |The written response did both state the purpose and functionality of the program, and the program illustrates this purpose.|\n",
    "|Data Abstraction|0           |The Data is shown being stored in a list, but the list is not shown to be accessed in the next part, also, the description of the list stateList seems inaccurate, as stateList is only shown to be storing the state names, while the description described it as having the information in the more information dropDown as well.|\n",
    "|Managing Complexity|0        |There is a list, but it is not shown to be used to manage complexity, and it does not describe how this program would be more complex without the use of this list.|\n",
    "|Procedural Abstraction|0     |The program shows an procedure, but it does not have a parameter, nor does it have any calls of this procedure, and the program inaccurately describes the function of the procedure in that the procedure does not actually update the screen like the description said.|\n",
    "|Algorithm Implementation|0   |The procedure did not demonstrate iteration.|\n",
    "|Testing        |0            |The procedure did not demonstrate the use of parameters, and it did not explain why the program produces the result when given th eparameters.|\n",
    "|Total          |1/6          | |\n",
    "\n",
    "I did not notice how the collegeboard also considered how the index value was set for the list of states and used that as part of why they deducted points, I will keep this in mind."
   ]
  },
  {
   "attachments": {},
   "cell_type": "markdown",
   "metadata": {},
   "source": [
    "## Sample 4\n",
    "\n",
    "|Catergory      |Score        |Comments                             |\n",
    "|---------------|-------------|-------------------------------------|\n",
    "|Purpose        |1            |The written response did both state the purpose and functionality of the program, and the program illustrates this purpose.|\n",
    "|Data Abstraction|1           |The Data is shown being stored in a list, and is shown to be accessed in the next part.|\n",
    "|Managing Complexity|1        |There is a list, and it is shown to be able to be used effectively to reduce the complexity needed for another program to have the same function|\n",
    "|Procedural Abstraction|1     |The program shows an procedure, and how it is used in the program.|\n",
    "|Algorithm Implementation|1   |The program and how it demonstrates use of sequence, iteration, and selection, and demonstrates how it is called.|\n",
    "|Testing        |0            |The response did not indicate the specific arguments passed, nor does it indicate how the parameter is used, and it also did not describe how the result is formed.|\n",
    "|Total          |5/6          | |\n"
   ]
  },
  {
   "attachments": {},
   "cell_type": "markdown",
   "metadata": {},
   "source": [
    "## Reflection\n",
    "In this week's Scoring, I noticed how sometimes Collegeboard is very lenient with things, and sometimes they are very strict. I will notice in my project to specify how the procedure contributes to the overall program, as well as how the indices for a list is determined. Still, I think I'm getting better at understanding what Collgeboard wants from me in the Create Performance Task, namely,\n",
    "\n",
    "- Clear answers that are detailed and specific to what is being asked.\n",
    "- An input that results in the program’s output and explain how\n",
    "- Have a list or lists that is used effectively to reduce the complexity\n",
    "- Describing how indices of a list is being determined by."
   ]
  }
 ],
 "metadata": {
  "kernelspec": {
   "display_name": "Python 3",
   "language": "python",
   "name": "python3"
  },
  "language_info": {
   "name": "python",
   "version": "3.8.10"
  },
  "orig_nbformat": 4,
  "vscode": {
   "interpreter": {
    "hash": "916dbcbb3f70747c44a77c7bcd40155683ae19c65e1c03b4aa3499c5328201f1"
   }
  }
 },
 "nbformat": 4,
 "nbformat_minor": 2
}
