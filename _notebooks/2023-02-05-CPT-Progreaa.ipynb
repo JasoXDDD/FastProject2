{
 "cells": [
  {
   "attachments": {},
   "cell_type": "markdown",
   "metadata": {},
   "source": [
    "# CPT Progress #1\n",
    "> A blog on my current progress in my CPT Project, a memory match game."
   ]
  },
  {
   "attachments": {},
   "cell_type": "markdown",
   "metadata": {},
   "source": [
    "## Idea\n",
    "My CPT is a memory match game. The player is shown a certain number of closed cards, and when a player clicks on one of them, it gets revealed. The player can click another card, and if it matches, then the cards will be added to the score, otherwise, the cards flip back and the player will use their memory to get try to match as many as they can. My twist on this game is that some of the cards are junk foods that will deduct points if it gets matched. The purpose is to help the player to get more memory but encouraging them to memorize tiles, as well to help them identify what foods are healthy and which ones are not through the use of a point system, which encourages these behaviours for a larger amount of points."
   ]
  },
  {
   "attachments": {},
   "cell_type": "markdown",
   "metadata": {},
   "source": [
    "## Progress\n",
    "I have made a python turtle program that can create game where you click on tiles to reveal a number that was randomly assigned to them while drawing the program."
   ]
  },
  {
   "cell_type": "code",
   "execution_count": 14,
   "metadata": {},
   "outputs": [],
   "source": [
    "from random import *\n",
    "from turtle import *\n",
    "\n",
    "screen = Screen()\n",
    " \n",
    "screen.bgcolor(\"orange\")\n",
    "\n",
    "def tile(x, y):\n",
    "    up()\n",
    "    goto(x, y)\n",
    "    down()\n",
    "    color('black', 'light green')\n",
    "    begin_fill()\n",
    "    for count in range(4):\n",
    "        forward(50)\n",
    "        left(90)\n",
    "    end_fill()\n",
    " \n",
    "def number(x, y):\n",
    "    return int((x + 200) // 50 + ((y + 200) // 50) * 8)\n",
    " \n",
    "def coord(count):\n",
    "    return (count % 8) * 50 - 200, (count // 8) * 50 - 200\n",
    "\n",
    "def click(x, y):\n",
    "    spot = number(x, y)\n",
    "    mark = state['mark']\n",
    " \n",
    "    if mark is None or mark == spot or tiles[mark] != tiles[spot]:\n",
    "        state['mark'] = spot\n",
    "    else:\n",
    "        hide[spot] = False\n",
    "        hide[mark] = False\n",
    "        state['mark'] = None\n",
    " \n",
    "def draw():\n",
    "    clear()\n",
    "    goto(0, 0)\n",
    "    stamp()\n",
    " \n",
    "    for count in range(64):\n",
    "        if hide[count]:\n",
    "            x, y = coord(count)\n",
    "            tile(x, y)\n",
    " \n",
    "    mark = state['mark']\n",
    " \n",
    "    if mark is not None and hide[mark]:\n",
    "        x, y = coord(mark)\n",
    "        up()\n",
    "        goto(x + 20, y+20)\n",
    "        color('black')\n",
    "        write(tiles[mark], font=('Arial', 30, 'normal'))\n",
    " \n",
    "    update()\n",
    "    ontimer(draw, 10)\n",
    " \n",
    "tiles = list(range(32)) * 2\n",
    "state = {'mark': None}\n",
    "hide = [True] * 64\n",
    "shuffle(tiles)\n",
    "tracer(False)\n",
    "width(7)\n",
    "onscreenclick(click)\n",
    "draw()\n",
    "done()"
   ]
  },
  {
   "attachments": {},
   "cell_type": "markdown",
   "metadata": {},
   "source": [
    "## Directions\n",
    "This is obviously just a crude prototype. First of all, the tiles are not foods, second, there is a bug where a line will be drawn in the middle after matching. There is no score board, and the game doesn't have a database it can upload to for keeping track. The algorithm of iteration is not utilized. Still, this was a very good project which can be built on to make my CPT better."
   ]
  }
 ],
 "metadata": {
  "kernelspec": {
   "display_name": "base",
   "language": "python",
   "name": "python3"
  },
  "language_info": {
   "codemirror_mode": {
    "name": "ipython",
    "version": 3
   },
   "file_extension": ".py",
   "mimetype": "text/x-python",
   "name": "python",
   "nbconvert_exporter": "python",
   "pygments_lexer": "ipython3",
   "version": "3.9.12"
  },
  "orig_nbformat": 4,
  "vscode": {
   "interpreter": {
    "hash": "69b2f749a59d00419208c208668bde088b70f42b826b3e4110ffc4bf7ea6bf2e"
   }
  }
 },
 "nbformat": 4,
 "nbformat_minor": 2
}
