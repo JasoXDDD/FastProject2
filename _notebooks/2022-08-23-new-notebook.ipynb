{
 "cells": [
  {
   "cell_type": "code",
   "execution_count": null,
   "metadata": {},
   "outputs": [],
   "source": [
    "print('hello world')"
   ]
  }
 ],
 "metadata": {
  "kernelspec": {
   "display_name": "Python 3.10.5 64-bit",
   "language": "python",
   "name": "python3"
  },
  "language_info": {
   "name": "python",
   "version": "3.10.5"
  },
  "orig_nbformat": 4,
  "vscode": {
   "interpreter": {
    "hash": "6cac97597d61da8915590d7938cb01300eb5382de5befd835cbfa5d9eaea8bfe"
   }
  }
 },
 "nbformat": 4,
 "nbformat_minor": 2
}
