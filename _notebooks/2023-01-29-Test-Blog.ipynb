{
 "cells": [
  {
   "attachments": {},
   "cell_type": "markdown",
   "metadata": {},
   "source": [
    "# MCQ 2 Blog\n",
    "> A blog about my blog on the MCQ #2"
   ]
  },
  {
   "attachments": {},
   "cell_type": "markdown",
   "metadata": {},
   "source": [
    "## My Results\n",
    "46/50\n",
    "Q1: \n",
    "\n",
    "![](ghtop_images/Mc2Q1.png) \n",
    "\n",
    "I did not consider that the code would change the max variable after it had already be set, which lead me to ignore the fact that if x is the max, the max would be set to z since y is not the max. In the future, I'll try to look over every line of the code slowly to make sure that I'm not making any oversights.\n",
    "\n",
    "Q10:\n",
    "\n",
    "![](ghtop_images/Mc2Q10.png) \n",
    "\n",
    "I did not see the fact that this question is multi-select, and I saw that B is correct and moved on. In the future, I'll always check if a question is multi-select, as well as read all of the options carefully.\n",
    "\n",
    "Q42:\n",
    "\n",
    "![](ghtop_images/Mc2Q42.png)\n",
    "\n",
    "I misplaced III as part of the advertising process instead of the designing process. I will make sure to carefully consider if a certain item can be beneficial to an aspect of developing in the future.\n",
    "\n",
    "Q49:\n",
    "\n",
    "![](ghtop_images/Mc2Q42.png)\n",
    "\n",
    "I forgot that some programs will just be unanswerable with no solutions. I will keep this in mind."
   ]
  },
  {
   "attachments": {},
   "cell_type": "markdown",
   "metadata": {},
   "source": [
    "## Summary \n",
    "The most pressing problem I have right now is not being careful enough and making mistakes. I will carefully do the problems, as well as checking them over. In addition, I will need to review some of the previous lessons, since as the results reveal, I need to recover some of my informations."
   ]
  }
 ],
 "metadata": {
  "kernelspec": {
   "display_name": "Python 3",
   "language": "python",
   "name": "python3"
  },
  "language_info": {
   "name": "python",
   "version": "3.8.10 (default, Jun 22 2022, 20:18:18) \n[GCC 9.4.0]"
  },
  "orig_nbformat": 4,
  "vscode": {
   "interpreter": {
    "hash": "916dbcbb3f70747c44a77c7bcd40155683ae19c65e1c03b4aa3499c5328201f1"
   }
  }
 },
 "nbformat": 4,
 "nbformat_minor": 2
}
