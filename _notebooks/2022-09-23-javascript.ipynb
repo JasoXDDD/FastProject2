{
 "cells": [
  {
   "cell_type": "markdown",
   "metadata": {},
   "source": [
    "# Javascript Test\n",
    "> A Test to see if my javascript kernel is running correctly\n",
    "\n",
    "- toc: true \n",
    "- badges: true\n",
    "- comments: true\n",
    "- categories: [jupyter]\n",
    "- image: images/chart-preview.png"
   ]
  },
  {
   "cell_type": "markdown",
   "metadata": {},
   "source": [
    "## The First program\n",
    "We all know what it is"
   ]
  },
  {
   "cell_type": "code",
   "execution_count": 4,
   "metadata": {},
   "outputs": [
    {
     "name": "stdout",
     "output_type": "stream",
     "text": [
      "hello world!\n"
     ]
    }
   ],
   "source": [
    "console.log(\"hello world!\")"
   ]
  },
  {
   "cell_type": "markdown",
   "metadata": {},
   "source": [
    "## Javascript ft. variables\n",
    "Javascript program showing use of variables."
   ]
  },
  {
   "cell_type": "code",
   "execution_count": 5,
   "metadata": {},
   "outputs": [
    {
     "name": "stdout",
     "output_type": "stream",
     "text": [
      "How are you today?\n"
     ]
    }
   ],
   "source": [
    "var msg = \"How are you today?\";\n",
    "console.log(msg);"
   ]
  },
  {
   "cell_type": "markdown",
   "metadata": {},
   "source": [
    "## Javascript functions\n",
    "Javascript program showing use of functions."
   ]
  },
  {
   "cell_type": "code",
   "execution_count": 6,
   "metadata": {},
   "outputs": [
    {
     "name": "stdout",
     "output_type": "stream",
     "text": [
      "How are you today?\n",
      "I'm doing ok\n",
      "2020\n"
     ]
    }
   ],
   "source": [
    "function logMsg(output){\n",
    "    console.log(output);\n",
    "}\n",
    "logMsg(msg);\n",
    "logMsg(\"I'm doing ok\");\n",
    "logMsg(2020);"
   ]
  },
  {
   "cell_type": "markdown",
   "metadata": {},
   "source": [
    "## Javascript Types\n",
    "Javascript program showing Javascript's dynamic types"
   ]
  },
  {
   "cell_type": "code",
   "execution_count": 7,
   "metadata": {},
   "outputs": [
    {
     "name": "stdout",
     "output_type": "stream",
     "text": [
      "Looking at dynamic nature of types in JavaScript\n",
      "string: hello\n",
      "number: 2020\n",
      "object: [ 1, 2, 3 ]\n"
     ]
    }
   ],
   "source": [
    "function logItType(output){\n",
    "    console.log(typeof output+\":\", output);\n",
    "}\n",
    "console.log(\"Looking at dynamic nature of types in JavaScript\")\n",
    "logItType(\"hello\"); // String\n",
    "logItType(2020);    // Number\n",
    "logItType([1, 2, 3]);  // Object is generic for this Array, which similar to Python List"
   ]
  },
  {
   "cell_type": "markdown",
   "metadata": {},
   "source": [
    "## Javascript Object/Class\n",
    "Javascript program showing use of instances"
   ]
  },
  {
   "cell_type": "code",
   "execution_count": 8,
   "metadata": {},
   "outputs": [
    {
     "name": "stdout",
     "output_type": "stream",
     "text": [
      "string: [object Object]\n",
      "\n",
      "string: {\"name\":\"Cool Sword\",\"atk\":999,\"price\":9999,\"description\":\"A very cool sword\",\"equipped\":true}\n",
      "\n",
      "Cool Sword\n",
      "Atk: 999\n",
      "Price: 9999\n",
      "\"A very cool sword\"\n",
      "This item is equipped!\n",
      "\n",
      "\n"
     ]
    }
   ],
   "source": [
    "function Item(name,atk,price,description){\n",
    "    this.name = name;\n",
    "    this.atk=atk;\n",
    "    this.price = price;\n",
    "    this.description = description;\n",
    "    this.equipped = false;\n",
    "}\n",
    "Item.prototype.toggleEquiped = function(){\n",
    "    this.equipped=true;\n",
    "}\n",
    "Item.prototype.toJSON = function(){\n",
    "    const obj = {name: this.name, atk: this.atk, price: this.price, description: this.description, equipped: this.equipped};\n",
    "    const json = JSON.stringify(obj);\n",
    "    return json;\n",
    "}\n",
    "Item.prototype.logItem=function(){\n",
    "    console.log(this.name);\n",
    "    console.log(\"Atk:\",this.atk);\n",
    "    console.log(\"Price:\",this.price);\n",
    "    console.log('\"'+this.description+'\"');\n",
    "    if (this.selected=true){\n",
    "        console.log(\"This item is equipped!\")\n",
    "    }\n",
    "    console.log(\"\\n\");\n",
    "}\n",
    "\n",
    "var coolSword=new Item(\"Cool Sword\",999,9999,\"A very cool sword\");\n",
    "coolSword.toggleEquiped();\n",
    "logItType(coolSword+\"\\n\");\n",
    "logItType(coolSword.toJSON()+\"\\n\");\n",
    "coolSword.logItem();"
   ]
  },
  {
   "cell_type": "markdown",
   "metadata": {},
   "source": [
    "## Javascript Array of Objects\n",
    "Javascript program that showcases use of arrays of objects"
   ]
  },
  {
   "cell_type": "code",
   "execution_count": 10,
   "metadata": {},
   "outputs": [
    {
     "name": "stdout",
     "output_type": "stream",
     "text": [
      "Beginner's Blade\n",
      "Atk: 10\n",
      "Price: 5\n",
      "\"A weapon fit for a beginner\"\n",
      "This item is equipped!\n",
      "\n",
      "\n",
      "Adventurer's Blade\n",
      "Atk: 20\n",
      "Price: 10\n",
      "\"A weapon that signifies experiences in adventure\"\n",
      "This item is equipped!\n",
      "\n",
      "\n",
      "The Frost Edge\n",
      "Atk: 50\n",
      "Price: 150\n",
      "\"The treasured sword of Frostpeak\"\n",
      "This item is equipped!\n",
      "\n",
      "\n",
      "Cool Sword\n",
      "Atk: 999\n",
      "Price: 9999\n",
      "\"A very cool sword\"\n",
      "This item is equipped!\n",
      "\n",
      "\n"
     ]
    }
   ],
   "source": [
    "var Inventory = [\n",
    "    new Item(\"Beginner's Blade\",10,5,\"A weapon fit for a beginner\"),\n",
    "    new Item(\"Adventurer's Blade\",20,10,\"A weapon that signifies experiences in adventure\"),\n",
    "    new Item(\"The Frost Edge\",50,150,\"The treasured sword of Frostpeak\"),\n",
    "    coolSword\n",
    "];\n",
    "\n",
    "for (let i = 0; i < Inventory.length; i++){\n",
    "    Inventory[i].logItem();\n",
    "}"
   ]
  },
  {
   "cell_type": "markdown",
   "metadata": {},
   "source": [
    "## Javascript Table\n",
    "A program that displays array data in a table"
   ]
  },
  {
   "cell_type": "code",
   "execution_count": 12,
   "metadata": {},
   "outputs": [
    {
     "data": {
      "text/html": [
       "<div style='display:inline-block;background:black;border: 2px solid grey;box-shadow: 0.8em 0.4em 0.4em grey;'><table><tr><th><mark>Name</mark></th><th><mark>Attack</mark></th><th><mark>Price</mark></th><th><mark>Description</mark></th></tr><tr><td>Beginner's Blade</td><td>10</td><td>5</td><td>A weapon fit for a beginner</td><tr><tr><td>Adventurer's Blade</td><td>20</td><td>10</td><td>A weapon that signifies experiences in adventure</td><tr><tr><td>The Frost Edge</td><td>50</td><td>150</td><td>The treasured sword of Frostpeak</td><tr><tr><td>Cool Sword</td><td>999</td><td>9999</td><td>A very cool sword</td><tr></table></div>"
      ]
     },
     "execution_count": 12,
     "metadata": {},
     "output_type": "execute_result"
    }
   ],
   "source": [
    "var style = (\n",
    "\"display:inline-block;\" +\n",
    "\"background:black;\" +\n",
    "\"border: 2px solid grey;\" +\n",
    "\"box-shadow: 0.8em 0.4em 0.4em grey;\"\n",
    ");\n",
    "\n",
    "// HTML Body of Table is build as a series of concatenations (+=)\n",
    "var body = \"\";\n",
    "// Heading for Array Columns\n",
    "body += \"<tr>\";\n",
    "body += \"<th><mark>\" + \"Name\" + \"</mark></th>\";\n",
    "body += \"<th><mark>\" + \"Attack\" + \"</mark></th>\";\n",
    "body += \"<th><mark>\" + \"Price\" + \"</mark></th>\";\n",
    "body += \"<th><mark>\" + \"Description\" + \"</mark></th>\";\n",
    "body += \"</tr>\";\n",
    "// Data of Array, iterate through each row of compsci.classroom \n",
    "for (var item of Inventory) {\n",
    "    // tr for each row, a new line\n",
    "    body += \"<tr>\";\n",
    "    // td for each column of data\n",
    "    body += \"<td>\" + item.name + \"</td>\";\n",
    "    body += \"<td>\" + item.atk + \"</td>\";\n",
    "    body += \"<td>\" + item.price + \"</td>\";\n",
    "    body += \"<td>\" + item.description + \"</td>\";\n",
    "    // tr to end line\n",
    "    body += \"<tr>\";\n",
    "}\n",
    "\n",
    "htmlFrag=\"<div style='\" + style + \"'>\" +\n",
    "    \"<table>\" +\n",
    "    body +\n",
    "    \"</table>\" +\n",
    "\"</div>\"\n",
    "\n",
    "$$.html(htmlFrag);"
   ]
  }
 ],
 "metadata": {
  "kernelspec": {
   "display_name": "JavaScript (Node.js)",
   "language": "javascript",
   "name": "javascript"
  },
  "language_info": {
   "file_extension": ".js",
   "mimetype": "application/javascript",
   "name": "javascript",
   "version": "6.11.2"
  },
  "orig_nbformat": 4
 },
 "nbformat": 4,
 "nbformat_minor": 2
}
