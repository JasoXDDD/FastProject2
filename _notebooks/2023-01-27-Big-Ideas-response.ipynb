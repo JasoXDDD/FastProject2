{
 "cells": [
  {
   "attachments": {},
   "cell_type": "markdown",
   "metadata": {},
   "source": [
    "# Big Ideas Blog\n",
    "> An answer to the questions in the Big Ideas"
   ]
  },
  {
   "attachments": {},
   "cell_type": "markdown",
   "metadata": {},
   "source": [
    "## 5.1 Blog\n",
    "1. A beneficial effect would be a easier way to access the information through the internet, the downside is the loss of the ability to concentrate on extracting information slowly due to a reliance on quick information\n",
    "2. A benefit would be faster communication and connection to others, the downside is the potential spread of misinformation which is hard to stop with the speed that information spreads.\n",
    "3. A benefit would be greater production of industry due to automation, a downside would be the shifting of jobs due to the computer replacing some jobs and creating new ones.\n",
    "The issue with dopamine is definitely real, although it is usually not to the extent that the examples get. Most people would only see computer as a quick getaway, not a replacement of social life. Still, the attachment to games can distract people from things that are more useful."
   ]
  },
  {
   "attachments": {},
   "cell_type": "markdown",
   "metadata": {},
   "source": [
    "## 5.2 Blog\n",
    "1. The way people empower themselves in a digital world is through gaining influence due to popularity on social media or other platforms, therefore, what you say are bound to have people backing you, thus making you more powerful.\n",
    "2. People who are empowered can help by giving attention to the people who doesn't have as much power, giving them support and more power to them as well.\n",
    "3. Red Tape do indeed block digital empowerment by blocking people off from certain ways to gain power through the internet. This is present in Del Norte as well, although to a less extent than others since the blockers at Del Norte is more lenient than others, which may just restrict people to certain websites alone.\n"
   ]
  },
  {
   "attachments": {},
   "cell_type": "markdown",
   "metadata": {},
   "source": [
    "## 5.3 Blog\n",
    "- Algorithm Bias sometimes will train themselves to a certain type of audience, like how TicTok is geared towards teens and Facebook is geared toward Older People. These differencese can be seen in the type of content that gets recommended. Whereas Facebook focuses on longer articles, which older people are more likely to read, TicTok is more catered to short videos, which grab teenager's attention more often. This is all just the use of marketing towards the selected age group for more attention. It is not really harmful, except the diversity in the platforms are going to be low.\n",
    "- Virtual Assistants have female voices likely because it is selected to be desireble by a test. It's purpose was to appeal to more audiences, this might be potentially harmful as it may make women seem like just assistants. I should be corrected to having the user select a voice that they want on startup. It is in name of a good business though.\n",
    "- The Google algorithm will recommend you things that relates to the things that you've searched up. This may cause to be stuck in your bubble where everything you search up will only result in results that thinks like you think, which is not good for a individual since it can lead to them developing a fixed mindset. Of course, this is acting in the business, because it wants you to click on results that fits you more.\n",
    "- Racist Computer\n",
    "    - The Owner does think that this is intentional, as he acts like the computer is deliberately avoiding him.\n",
    "    - This probably happened because the database only included white people in it, which caused the algorithm to be only able to target white people\n",
    "    - This is harmful, as it is excluding a whole group of people in their userbase, and it should be corrected.\n",
    "    - This can be easily fixed by using a more variety of samples in the database that has equal representation of every race and gender.\n"
   ]
  },
  {
   "attachments": {},
   "cell_type": "markdown",
   "metadata": {},
   "source": [
    "## 5.4 Blog\n",
    "- APIs such as rapidAPI can help with crowd sourcing by providing us information that is taken from the people. This can be used to give us the information that we can't find and input by ourselves. I used a Youtube API, and it gave me information that I couldn't find by myself taken from the people. This is crowdsourcing in the sense that it gets its information from what others have inputed.\n",
    "- The biggest discovery was the fact that I can use github to restore to previous versions. I was able to recover my project a couple times using this. The knowledge that github stores the previous commits was pretty massive, since I realize how much data is really stored in these websites.\n",
    "- The 150 students could help with crowdsourcing by providing us feedback on our CPT by giving us inputs on how we can improve and the bugs that our programs can run into. They can also give ideas on what we could add to our games.\n",
    "- Crowdsourcing for the whole school is going to be tough, but it can give us a more diverse view and a significantly larger amounts of inputs. However, there is a larger risk of malicious inputs in forms of spam and wrong information."
   ]
  }
 ],
 "metadata": {
  "kernelspec": {
   "display_name": "Python 3",
   "language": "python",
   "name": "python3"
  },
  "language_info": {
   "name": "python",
   "version": "3.8.10"
  },
  "orig_nbformat": 4,
  "vscode": {
   "interpreter": {
    "hash": "916dbcbb3f70747c44a77c7bcd40155683ae19c65e1c03b4aa3499c5328201f1"
   }
  }
 },
 "nbformat": 4,
 "nbformat_minor": 2
}
