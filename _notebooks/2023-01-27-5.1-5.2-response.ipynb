{
 "cells": [
  {
   "attachments": {},
   "cell_type": "markdown",
   "metadata": {},
   "source": [
    "# 5.1 and 5.2 Blog\n",
    "> An answer to the questions in the Big Ideas"
   ]
  },
  {
   "attachments": {},
   "cell_type": "markdown",
   "metadata": {},
   "source": [
    "## 5.1 Blog\n",
    "1. A beneficial effect would be a easier way to access the information through the internet, the downside is the loss of the ability to concentrate on extracting information slowly due to a reliance on quick information\n",
    "2. A benefit would be faster communication and connection to others, the downside is the potential spread of misinformation which is hard to stop with the speed that information spreads.\n",
    "3. A benefit would be greater production of industry due to automation, a downside would be the shifting of jobs due to the computer replacing some jobs and creating new ones.\n",
    "The issue with dopamine is definitely real, although it is usually not to the extent that the examples get. Most people would only see computer as a quick getaway, not a replacement of social life. Still, the attachment to games can distract people from things that are more useful."
   ]
  },
  {
   "attachments": {},
   "cell_type": "markdown",
   "metadata": {},
   "source": [
    "## 5.2 Blog\n",
    "1. The way people empower themselves in a digital world is through gaining influence due to popularity on social media or other platforms, therefore, what you say are bound to have people backing you, thus making you more powerful.\n",
    "2. People who are empowered can help by giving attention to the people who doesn't have as much power, giving them support and more power to them as well.\n",
    "3. Red Tape do indeed block digital empowerment by blocking people off from certain ways to gain power through the internet. This is present in Del Norte as well, although to a less extent than others since the blockers at Del Norte is more lenient than others, which may just restrict people to certain websites alone.\n"
   ]
  }
 ],
 "metadata": {
  "kernelspec": {
   "display_name": "Python 3",
   "language": "python",
   "name": "python3"
  },
  "language_info": {
   "name": "python",
   "version": "3.8.10 (default, Jun 22 2022, 20:18:18) \n[GCC 9.4.0]"
  },
  "orig_nbformat": 4,
  "vscode": {
   "interpreter": {
    "hash": "916dbcbb3f70747c44a77c7bcd40155683ae19c65e1c03b4aa3499c5328201f1"
   }
  }
 },
 "nbformat": 4,
 "nbformat_minor": 2
}
