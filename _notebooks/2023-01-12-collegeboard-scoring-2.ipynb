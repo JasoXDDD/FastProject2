{
 "cells": [
  {
   "attachments": {},
   "cell_type": "markdown",
   "metadata": {},
   "source": [
    "# Collegeboard Grading 2\n",
    "- title: Collegeboard Grading 2"
   ]
  },
  {
   "attachments": {},
   "cell_type": "markdown",
   "metadata": {},
   "source": [
    "## Sample 1\n",
    "\n",
    "|Catergory      |Score        |\n",
    "|---------------|-------------|\n",
    "|Purpose        |0            |\n",
    "|Data Abstraction|1           |\n",
    "|Managing Complexity|0        |\n",
    "|Procedural Abstraction|0     |\n",
    "|Algorithm Implementation|0   |\n",
    "|Testing        |1            |\n",
    "|Total          |2/6          | \n",
    "\n",
    "The video and the written response do not demonstrate a creative purpose but merely restating the function of the program. The Input and the Output os also not clearly seperated in the purpose, giving it a 0. Data abstraction is apparent with the effective use of lists. The Code is not complex, and the response does not explain why it was complex. The algorithm of the evaluateGuess function uses the variable guess, but it is also used outside of the funciton. The response does not indicate why the algorithm demonstrate complexity. The algorithm demonstrates iteration, sequencing, and selection, but its description is not clear enough for it to be replicated. However, the program did demonstrate testing, with one wrong answers and win conditions, as well as clear description of what's being tested.\n",
    "\n",
    "After reviewing the Collgeboard scoring, I noticed that Data Abstraction was given a 0, I graded it a 1 because I had not noticed that there was an unused list. I will be on the lookout for anything like this in the future."
   ]
  },
  {
   "attachments": {},
   "cell_type": "markdown",
   "metadata": {},
   "source": [
    "## Sample 2\n",
    "|Catergory      |Score        |\n",
    "|---------------|-------------|\n",
    "|Purpose        |1            |\n",
    "|Data Abstraction|1           |\n",
    "|Managing Complexity|1        |\n",
    "|Procedural Abstraction|1     |\n",
    "|Algorithm Implementation|1   |\n",
    "|Testing        |1            |\n",
    "|Total          |6/6          |\n",
    "\n",
    "The written response reflect a clear purpose and the video demonstrates it well. The written response demonstrates that information is stored in one list, without any overflowing of variables, and also shows how it is used. The code does a good job with managing complexity here, with the use of wordlist to manage the words and use them. The program clearly shows a procedure and how it is used well. The procedure shows sequencing, selection(if), and iteration(while), and includes a detailed explanation of the procedure enough to recreate it from just the description. The program describes in detail what both testing sequences is used for and what happens in the program as those were run. All of this combined gives it a perfect score with 6/6\n",
    "\n",
    "My evaluation is the same as collegeboard's."
   ]
  },
  {
   "attachments": {},
   "cell_type": "markdown",
   "metadata": {},
   "source": [
    "## Sample 3\n",
    "|Catergory      |Score        |\n",
    "|---------------|-------------|\n",
    "|Purpose        |0            |\n",
    "|Data Abstraction|1           |\n",
    "|Managing Complexity|1        |\n",
    "|Procedural Abstraction|1     |\n",
    "|Algorithm Implementation|1   |\n",
    "|Testing        |1            |\n",
    "|Total          |5/6          |\n",
    "\n",
    "The written response did not state the purpose but merrly stated the functionality of the program. The written response indicated that variables are stored in one list and that it's being used properly. The program does a nice job with managing complexity with its list to store the numbers and using them. The procedure is demonstrated well and suits the program's purpose. The procedure also have sequencing, selection(if-else if-else), and iteration(for), and includes a instruction detailed enough to replicate it from the description. The program describes in detail what both testing sequence is used for and why is the results intended. Only the purpose is lacking with a score of 5/6\n",
    "\n",
    "My evaluation is the same as collegeboard's"
   ]
  },
  {
   "attachments": {},
   "cell_type": "markdown",
   "metadata": {},
   "source": [
    "## Sample 4\n",
    "|Catergory      |Score        |\n",
    "|---------------|-------------|\n",
    "|Purpose        |1            |\n",
    "|Data Abstraction|0           |\n",
    "|Managing Complexity|0        |\n",
    "|Procedural Abstraction|1     |\n",
    "|Algorithm Implementation|1   |\n",
    "|Testing        |0            |\n",
    "|Total          |3/6          |\n",
    "\n",
    "The written response correctly indicated the purpose of the program instead of the functionality. The response shows how the data is stored but not how it is used, putting it off of the data abstraction method. The list mentioned did not help to manage complexity, only acting as a counter. The procedure uses a parameter and is used to complete parts of the procedure. The Algorithm has sequencing, selection(if) and iteration(repeat), and it describes the algorithm in enough detail to replicate it from scratch (pun not intended). The test cases are not explaned properly, with not the arguments but the conditions for each case.\n",
    "\n",
    "My evaluation is the same as collegeboard's"
   ]
  }
 ],
 "metadata": {
  "kernelspec": {
   "display_name": "base",
   "language": "python",
   "name": "python3"
  },
  "language_info": {
   "name": "python",
   "version": "3.9.12 (main, Apr  5 2022, 06:56:58) \n[GCC 7.5.0]"
  },
  "orig_nbformat": 4,
  "vscode": {
   "interpreter": {
    "hash": "69b2f749a59d00419208c208668bde088b70f42b826b3e4110ffc4bf7ea6bf2e"
   }
  }
 },
 "nbformat": 4,
 "nbformat_minor": 2
}
