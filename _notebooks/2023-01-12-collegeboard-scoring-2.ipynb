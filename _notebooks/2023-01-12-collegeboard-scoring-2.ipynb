{
 "cells": [
  {
   "attachments": {},
   "cell_type": "markdown",
   "metadata": {},
   "source": [
    "# Collegeboard Grading 2\n",
    "- title: Collegeboard Grading 2"
   ]
  },
  {
   "attachments": {},
   "cell_type": "markdown",
   "metadata": {},
   "source": [
    "## Sample 1\n",
    "\n",
    "|Catergory      |Score        |\n",
    "|---------------|---------------|\n",
    "|Purpose        |0            |\n",
    "|Data Abstraction|0           |\n",
    "|Managing Complexity|0        |\n",
    "|Procedural Abstraction|0     |\n",
    "|Algorithm Implementation|0   |\n",
    "|Testing        |1            |\n",
    "|Total          |2/6          | \n",
    "\n",
    "The video and the written response do not demonstrate a creative purpose but merely restating the function of the program. The Input and the Output os also not clearly seperated in the purpose, giving it a 0. The animallist variable is declared but not used effectively, giving Data Abstraction a 0. The Code is not complex, and the response does not explain why it was complex. The algorithm of the evaluateGuess function uses the variable guess, but it is also used outside of the funciton. The response does not indicate why the algorithm demonstrate complexity. The algorithm demonstrates iteration, sequencing, and selection, but its description is not clear enough for it to be replicated. However, the program did demonstrate testing, with one wrong answers and win conditions, as well as clear description of what's being tested."
   ]
  }
 ],
 "metadata": {
  "language_info": {
   "name": "python"
  },
  "orig_nbformat": 4
 },
 "nbformat": 4,
 "nbformat_minor": 2
}
