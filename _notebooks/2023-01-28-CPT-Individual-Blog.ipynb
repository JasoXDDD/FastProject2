{
 "cells": [
  {
   "attachments": {},
   "cell_type": "markdown",
   "metadata": {},
   "source": [
    "# CPT Individual Blog\n",
    "> The Individual Blog on my team's project"
   ]
  },
  {
   "attachments": {},
   "cell_type": "markdown",
   "metadata": {},
   "source": [
    "## The Blog\n",
    "The Collegeboard Performance Task is an assessment of the skills of the APCSP curriculum, consisting of a video and a written response that demonstrate a program working, while describing its purpose and functionality, how it is managing complexity, utilizing algorithms and procedures, testing, and providing detailed descriptions to show proficiency in the project and AP CSP curriculum.\n",
    "\n",
    "Our project is a Fruit-Ninja-esque game where foods will appear on the screen, and the player will identify the healthy foods and click them in a limited amount of time. Choosing the right ones increases the score and timer and vice versa. There will also be a sign-in feature for updating a leaderboard with scores.\n",
    "\n",
    "For my personal addition to the project, I will be working on storing the leaderboard and sign in information. I will be creating a program that can send and recieve sign-in information and highscores to and from a database. This aims to give the player a reason to learn all the good foods and be better at reflexes, due to the wish to get a higher score, a competitive edge. I was in charge of that in my team's project last trimester, and I will do the same this time as well with the new experience and tools I've learned."
   ]
  }
 ],
 "metadata": {
  "kernelspec": {
   "display_name": "Python 3",
   "language": "python",
   "name": "python3"
  },
  "language_info": {
   "name": "python",
   "version": "3.8.10"
  },
  "orig_nbformat": 4,
  "vscode": {
   "interpreter": {
    "hash": "916dbcbb3f70747c44a77c7bcd40155683ae19c65e1c03b4aa3499c5328201f1"
   }
  }
 },
 "nbformat": 4,
 "nbformat_minor": 2
}
