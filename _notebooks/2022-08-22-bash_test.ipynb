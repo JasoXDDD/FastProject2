{
 "cells": [
  {
   "cell_type": "markdown",
   "metadata": {},
   "source": [
    "# Bash Test\n",
    "> A brief test of Bash, where I tried to used the bash kernel, but it didn't seem to work\n",
    "\n",
    "- toc: true\n",
    "- comments: true\n",
    "- permalink: /techtalk/bash\n",
    "- image: /images/bash.jpeg\n",
    "- categories: [techtalk]"
   ]
  },
  {
   "cell_type": "markdown",
   "metadata": {},
   "source": [
    "## Prerequisites for Bash on Jupyter\n",
    "> Being able to find a Bash Reference.  Here is a [Bash Cheat Sheet](https://www.pcwdld.com/bash-cheat-sheet)\n",
    "\n",
    "> Install the Bash Kernel for Jupyter notebooks.  Expectations are pip3 and python3 are defined within the path.  The bash shell allowed construction of this tutorial.\n",
    "\n",
    "- pip install bash_kernel\n",
    "- python -m bash_kernel.install\n",
    "\n",
    "Selecting a kernel in \"code --project--\" or \"jupyter notebook --file.ipynb--\" that have bash in options.\n"
   ]
  },
  {
   "cell_type": "markdown",
   "metadata": {},
   "source": [
    "## Prerequisites for Project Directory\n",
    "> Practice pulling code from git to your machine. This will create a project directory and add APCSP github project to the directory.  There is conditional logic to make sure that directory and pull only happen if it does not (!) exist.\n",
    "\n",
    "- Hack: Change variables, make new directory, clone to that directory."
   ]
  },
  {
   "cell_type": "code",
   "execution_count": 2,
   "metadata": {
    "vscode": {
     "languageId": "shellscript"
    }
   },
   "outputs": [
    {
     "name": "stdout",
     "output_type": "stream",
     "text": [
      "Using conditional statement to create a project directory and project\n",
      "Directory /home/haoxuan/vscode exists.\n",
      "Directory /home/haoxuan/vscode/APCSP exists.\n"
     ]
    }
   ],
   "source": [
    "echo \"Using conditional statement to create a project directory and project\"\n",
    "\n",
    "# Variable section\n",
    "export project_dir=$HOME/vscode  # change vscode to different name to test git clone\n",
    "export project=$project_dir/APCSP  # change APCSP to name of project from git clone\n",
    "export project_repo=\"https://github.com/nighthawkcoders/APCSP.git\"  # change to project of choice\n",
    "\n",
    "cd ~    # start in home directory\n",
    "\n",
    "# Conditional block to make a project directory\n",
    "if [ ! -d $project_dir ]\n",
    "then \n",
    "    echo \"Directory $project_dir does not exists... makinng directory $project_dir\"\n",
    "    mkdir -p $project_dir\n",
    "fi\n",
    "echo \"Directory $project_dir exists.\" \n",
    "\n",
    "# Conditional block to git clone a project from project_repo\n",
    "if [ ! -d $project ]\n",
    "then\n",
    "    echo \"Directory $project does not exists... cloning $project_repo\"\n",
    "    cd $project_dir\n",
    "    git clone $project_repo\n",
    "    cd ~\n",
    "fi\n",
    "echo \"Directory $project exists.\" "
   ]
  },
  {
   "cell_type": "markdown",
   "metadata": {},
   "source": [
    "### Look inside Fastpages/Github page project\n",
    "> All computers contain files and directories.  The clone brought more files from cloud to your machine.  Using the bash shell you will see some commands that show and interact with files and directories.\n",
    "\n",
    "- \"ls\" lists computer files in Unix and Unix-like operating systems\n",
    "- \"cd\" offers way to navigate and change working directory\n",
    "- \"pwd\" print working directory\n",
    "- \"echo\" used to display line of text/string that are passed as an argument"
   ]
  },
  {
   "cell_type": "code",
   "execution_count": 1,
   "metadata": {
    "vscode": {
     "languageId": "shellscript"
    }
   },
   "outputs": [
    {
     "name": "stdout",
     "output_type": "stream",
     "text": [
      " Volume in drive C is Windows\n",
      " Volume Serial Number is A6D3-D43E\n",
      "\n",
      " Directory of c:\\AAA\\coding\\Visual Studio\\fastproject2\\FastProject2\\_notebooks\n",
      "\n",
      "08/29/2022  02:53 PM    <DIR>          .\n",
      "08/29/2022  12:08 AM    <DIR>          ..\n",
      "08/23/2022  11:51 PM         3,162,569 2020-02-20-test.ipynb\n",
      "08/30/2022  02:36 PM             9,754 2022-08-22-bash_test.ipynb\n",
      "08/30/2022  02:36 PM             1,195 2022-08-23-new-notebook.ipynb\n",
      "08/29/2022  02:47 PM             3,179 2022-08-27-quiz.ipynb\n",
      "08/23/2022  11:41 PM    <DIR>          ghtop_images\n",
      "08/23/2022  11:41 PM    <DIR>          my_icons\n",
      "08/23/2022  11:41 PM               784 README.md\n",
      "               5 File(s)      3,177,481 bytes\n",
      "               4 Dir(s)  344,116,977,664 bytes free\n"
     ]
    }
   ],
   "source": [
    "ls"
   ]
  },
  {
   "cell_type": "code",
   "execution_count": 1,
   "metadata": {
    "vscode": {
     "languageId": "shellscript"
    }
   },
   "outputs": [
    {
     "name": "stdout",
     "output_type": "stream",
     "text": [
      "Navigate to project, then navigate to area wwhere files were cloned\n",
      "/home/haoxuan\n",
      "\n",
      "list top level or root of files with project pulled from github\n",
      "\u001b[0m\u001b[01;34manaconda3\u001b[0m  \u001b[01;34mvscode\u001b[0m\n",
      "\n",
      "list again with hidden files pulled from github\n",
      "\u001b[0m\u001b[01;34m.\u001b[0m              \u001b[01;34m.cache\u001b[0m      \u001b[01;34m.local\u001b[0m                     \u001b[01;34m.vscode-server\u001b[0m\n",
      "\u001b[01;34m..\u001b[0m             \u001b[01;34m.conda\u001b[0m      .motd_shown                .wget-hsts\n",
      "\u001b[01;36m.aws\u001b[0m           \u001b[01;34m.docker\u001b[0m     \u001b[01;34m.node-gyp\u001b[0m                  \u001b[01;34manaconda3\u001b[0m\n",
      "\u001b[01;36m.azure\u001b[0m         .gitconfig  \u001b[01;34m.npm\u001b[0m                       \u001b[01;34mvscode\u001b[0m\n",
      ".bash_history  \u001b[01;34m.ipython\u001b[0m    .profile\n",
      ".bash_logout   \u001b[01;34m.jupyter\u001b[0m    .sudo_as_admin_successful\n",
      ".bashrc        \u001b[01;34m.landscape\u001b[0m  \u001b[01;34m.vscode-remote-containers\u001b[0m\n",
      "\n",
      "list all files in long format\n",
      "total 96\n",
      "drwxr-xr-x 15 haoxuan haoxuan 4096 Oct 10 15:19 \u001b[0m\u001b[01;34m.\u001b[0m\n",
      "drwxr-xr-x  3 root    root    4096 Aug 23 23:16 \u001b[01;34m..\u001b[0m\n",
      "lrwxrwxrwx  1 haoxuan haoxuan   23 Sep 20 01:15 \u001b[01;36m.aws\u001b[0m -> \u001b[34;42m/mnt/c/Users/haoxu/.aws\u001b[0m\n",
      "lrwxrwxrwx  1 haoxuan haoxuan   25 Sep 20 01:15 \u001b[01;36m.azure\u001b[0m -> \u001b[34;42m/mnt/c/Users/haoxu/.azure\u001b[0m\n",
      "-rw-------  1 haoxuan haoxuan 9611 Oct 13 19:01 .bash_history\n",
      "-rw-r--r--  1 haoxuan haoxuan  220 Aug 23 23:16 .bash_logout\n",
      "-rw-r--r--  1 haoxuan haoxuan 4254 Aug 30 14:47 .bashrc\n",
      "drwxr-xr-x  6 haoxuan haoxuan 4096 Sep 22 14:59 \u001b[01;34m.cache\u001b[0m\n",
      "drwxr-xr-x  2 haoxuan haoxuan 4096 Aug 30 14:46 \u001b[01;34m.conda\u001b[0m\n",
      "drwxr-xr-x  5 haoxuan haoxuan 4096 Sep 20 14:29 \u001b[01;34m.docker\u001b[0m\n",
      "-rw-r--r--  1 haoxuan haoxuan   59 Sep 21 01:32 .gitconfig\n",
      "drwxr-xr-x  3 haoxuan haoxuan 4096 Aug 30 14:57 \u001b[01;34m.ipython\u001b[0m\n",
      "drwxr-xr-x  2 haoxuan haoxuan 4096 Aug 30 14:59 \u001b[01;34m.jupyter\u001b[0m\n",
      "drwxr-xr-x  2 haoxuan haoxuan 4096 Aug 23 23:16 \u001b[01;34m.landscape\u001b[0m\n",
      "drwxr-xr-x  5 haoxuan haoxuan 4096 Oct  3 14:45 \u001b[01;34m.local\u001b[0m\n",
      "-rw-r--r--  1 haoxuan haoxuan    0 Oct 15 14:09 .motd_shown\n",
      "drwxr-xr-x  3 haoxuan haoxuan 4096 Sep 21 15:15 \u001b[01;34m.node-gyp\u001b[0m\n",
      "drwxr-xr-x 13 haoxuan haoxuan 4096 Sep 22 14:59 \u001b[01;34m.npm\u001b[0m\n",
      "-rw-r--r--  1 haoxuan haoxuan  807 Aug 23 23:16 .profile\n",
      "-rw-r--r--  1 haoxuan haoxuan    0 Sep 20 14:25 .sudo_as_admin_successful\n",
      "drwxr-xr-x  3 haoxuan haoxuan 4096 Oct 10 15:19 \u001b[01;34m.vscode-remote-containers\u001b[0m\n",
      "drwxr-xr-x  5 haoxuan haoxuan 4096 Aug 30 14:52 \u001b[01;34m.vscode-server\u001b[0m\n",
      "-rw-r--r--  1 haoxuan haoxuan  183 Oct 12 15:29 .wget-hsts\n",
      "drwxr-xr-x 28 haoxuan haoxuan 4096 Aug 30 15:01 \u001b[01;34manaconda3\u001b[0m\n",
      "drwxr-xr-x  9 haoxuan haoxuan 4096 Oct 12 15:01 \u001b[01;34mvscode\u001b[0m\n"
     ]
    }
   ],
   "source": [
    "# You must run cells above to define variable and project\n",
    "\n",
    "echo \"Navigate to project, then navigate to area wwhere files were cloned\"\n",
    "cd $project\n",
    "pwd\n",
    "\n",
    "echo \"\"\n",
    "echo \"list top level or root of files with project pulled from github\"\n",
    "ls\n",
    "\n",
    "echo \"\"\n",
    "echo \"list again with hidden files pulled from github\"\n",
    "ls -a   # hidden files flag, many shell commands have flags\n",
    "\n",
    "echo \"\"\n",
    "echo \"list all files in long format\"\n",
    "ls -al   # all files and long listing"
   ]
  },
  {
   "cell_type": "code",
   "execution_count": 2,
   "metadata": {
    "vscode": {
     "languageId": "shellscript"
    }
   },
   "outputs": [
    {
     "name": "stdout",
     "output_type": "stream",
     "text": [
      "Look for posts\n",
      "bash: cd: /_posts: No such file or directory\n",
      "/home/haoxuan\n",
      "total 8\n",
      "drwxr-xr-x 28 haoxuan haoxuan 4096 Aug 30 15:01 \u001b[0m\u001b[01;34manaconda3\u001b[0m\n",
      "drwxr-xr-x  9 haoxuan haoxuan 4096 Oct 12 15:01 \u001b[01;34mvscode\u001b[0m\n"
     ]
    }
   ],
   "source": [
    "# You must run cells above to define variable and project\n",
    "\n",
    "echo \"Look for posts\"\n",
    "export posts=$project/_posts  # _posts inside project\n",
    "cd $posts  # this should exist per fastpages\n",
    "pwd  # present working directory\n",
    "ls -l  # list posts"
   ]
  },
  {
   "cell_type": "code",
   "execution_count": 3,
   "metadata": {
    "vscode": {
     "languageId": "shellscript"
    }
   },
   "outputs": [
    {
     "name": "stdout",
     "output_type": "stream",
     "text": [
      "Look for notebooks\n",
      "bash: cd: /_notebooks: No such file or directory\n",
      "/home/haoxuan\n",
      "total 8\n",
      "drwxr-xr-x 28 haoxuan haoxuan 4096 Aug 30 15:01 \u001b[0m\u001b[01;34manaconda3\u001b[0m\n",
      "drwxr-xr-x  9 haoxuan haoxuan 4096 Oct 12 15:01 \u001b[01;34mvscode\u001b[0m\n"
     ]
    }
   ],
   "source": [
    "# You must run cells above to define variable and project\n",
    "\n",
    "echo \"Look for notebooks\"\n",
    "export notebooks=$project/_notebooks  # _notebooks is inside project\n",
    "cd $notebooks   # this should exist per fastpages\n",
    "pwd  # present working directory\n",
    "ls -l  # list notebooks"
   ]
  },
  {
   "cell_type": "code",
   "execution_count": 4,
   "metadata": {
    "vscode": {
     "languageId": "shellscript"
    }
   },
   "outputs": [
    {
     "name": "stdout",
     "output_type": "stream",
     "text": [
      "Look for images in notebooks, print working directory, list files\n",
      "bash: cd: /_notebooks/images: No such file or directory\n",
      "/home/haoxuan\n",
      "total 8\n",
      "drwxr-xr-x 28 haoxuan haoxuan 4096 Aug 30 15:01 \u001b[0m\u001b[01;34manaconda3\u001b[0m\n",
      "drwxr-xr-x  9 haoxuan haoxuan 4096 Oct 12 15:01 \u001b[01;34mvscode\u001b[0m\n"
     ]
    }
   ],
   "source": [
    "# You must run cells above to define notebooks location\n",
    "\n",
    "echo \"Look for images in notebooks, print working directory, list files\"\n",
    "cd $notebooks/images  # this should exist per fastpages\n",
    "pwd\n",
    "ls -l"
   ]
  },
  {
   "cell_type": "markdown",
   "metadata": {},
   "source": [
    "### Look inside a Markdown File\n",
    "> \"cat\" reads data from the file and gives its content as output"
   ]
  },
  {
   "cell_type": "code",
   "execution_count": 5,
   "metadata": {
    "vscode": {
     "languageId": "shellscript"
    }
   },
   "outputs": [
    {
     "name": "stdout",
     "output_type": "stream",
     "text": [
      "Navigate to project, then navigate to area wwhere files were cloned\n",
      "show the contents of README.md\n",
      "\n",
      "cat: README.md: No such file or directory\n",
      "\n",
      "end of README.md\n"
     ]
    }
   ],
   "source": [
    "# You must run cells above to define project\n",
    "echo \"Navigate to project, then navigate to area wwhere files were cloned\"\n",
    "\n",
    "cd $project\n",
    "echo \"show the contents of README.md\"\n",
    "echo \"\"\n",
    "\n",
    "cat README.md  # show contents of file, in this case markdown\n",
    "echo \"\"\n",
    "echo \"end of README.md\"\n"
   ]
  },
  {
   "cell_type": "markdown",
   "metadata": {},
   "source": [
    "### Env, Git and GitHub\n",
    "> Env(ironment) is used to capture things like path to Code or Home directory.  Git and GitHub is NOT Only used to exchange code between individuals, it is often used to exchange code through servers, in our case deployment for Website.   All tools we use have a behind the scenes hav relationship with the system they run on (MacOS, Windows, Linus) or a relationship with servers which they are connected to (ie GitHub).  There is an \"env\" command in bash.  There are environment files and setting files (.git/config) for Git.  They both use a key/value concept.\n",
    "\n",
    "- \"env\" show setting for your shell\n",
    "- \"git clone\" sets up a director of files\n",
    "- \"cd $project\" allows user to move inside that directory of files\n",
    "- \".git\" is a hidden directory that is used by git to establish relationship between machine and the git server on GitHub.  "
   ]
  },
  {
   "cell_type": "code",
   "execution_count": 6,
   "metadata": {
    "vscode": {
     "languageId": "shellscript"
    }
   },
   "outputs": [
    {
     "name": "stdout",
     "output_type": "stream",
     "text": [
      "Show the shell environment variables, key on left of equal value on right\n",
      "\n",
      "SHELL=/bin/bash\n",
      "PYTHONUNBUFFERED=1\n",
      "CONDA_EXE=/home/haoxuan/anaconda3/bin/conda\n",
      "_CE_M=\n",
      "APPLICATION_INSIGHTS_NO_DIAGNOSTIC_CHANNEL=1\n",
      "WSL_DISTRO_NAME=Ubuntu\n",
      "ELECTRON_RUN_AS_NODE=1\n",
      "VSCODE_AMD_ENTRYPOINT=vs/workbench/api/node/extensionHostProcess\n",
      "NAME=LAPTOP-V9GL5S0O\n",
      "PWD=/home/haoxuan\n",
      "LOGNAME=haoxuan\n",
      "CONDA_PREFIX=/home/haoxuan/anaconda3\n",
      "MOTD_SHOWN=update-motd\n",
      "HOME=/home/haoxuan\n",
      "LANG=C.UTF-8\n",
      "WSL_INTEROP=/run/WSL/11_interop\n",
      "LS_COLORS=rs=0:di=01;34:ln=01;36:mh=00:pi=40;33:so=01;35:do=01;35:bd=40;33;01:cd=40;33;01:or=40;31;01:mi=00:su=37;41:sg=30;43:ca=30;41:tw=30;42:ow=34;42:st=37;44:ex=01;32:*.tar=01;31:*.tgz=01;31:*.arc=01;31:*.arj=01;31:*.taz=01;31:*.lha=01;31:*.lz4=01;31:*.lzh=01;31:*.lzma=01;31:*.tlz=01;31:*.txz=01;31:*.tzo=01;31:*.t7z=01;31:*.zip=01;31:*.z=01;31:*.dz=01;31:*.gz=01;31:*.lrz=01;31:*.lz=01;31:*.lzo=01;31:*.xz=01;31:*.zst=01;31:*.tzst=01;31:*.bz2=01;31:*.bz=01;31:*.tbz=01;31:*.tbz2=01;31:*.tz=01;31:*.deb=01;31:*.rpm=01;31:*.jar=01;31:*.war=01;31:*.ear=01;31:*.sar=01;31:*.rar=01;31:*.alz=01;31:*.ace=01;31:*.zoo=01;31:*.cpio=01;31:*.7z=01;31:*.rz=01;31:*.cab=01;31:*.wim=01;31:*.swm=01;31:*.dwm=01;31:*.esd=01;31:*.jpg=01;35:*.jpeg=01;35:*.mjpg=01;35:*.mjpeg=01;35:*.gif=01;35:*.bmp=01;35:*.pbm=01;35:*.pgm=01;35:*.ppm=01;35:*.tga=01;35:*.xbm=01;35:*.xpm=01;35:*.tif=01;35:*.tiff=01;35:*.png=01;35:*.svg=01;35:*.svgz=01;35:*.mng=01;35:*.pcx=01;35:*.mov=01;35:*.mpg=01;35:*.mpeg=01;35:*.m2v=01;35:*.mkv=01;35:*.webm=01;35:*.ogm=01;35:*.mp4=01;35:*.m4v=01;35:*.mp4v=01;35:*.vob=01;35:*.qt=01;35:*.nuv=01;35:*.wmv=01;35:*.asf=01;35:*.rm=01;35:*.rmvb=01;35:*.flc=01;35:*.avi=01;35:*.fli=01;35:*.flv=01;35:*.gl=01;35:*.dl=01;35:*.xcf=01;35:*.xwd=01;35:*.yuv=01;35:*.cgm=01;35:*.emf=01;35:*.ogv=01;35:*.ogx=01;35:*.aac=00;36:*.au=00;36:*.flac=00;36:*.m4a=00;36:*.mid=00;36:*.midi=00;36:*.mka=00;36:*.mp3=00;36:*.mpc=00;36:*.ogg=00;36:*.ra=00;36:*.wav=00;36:*.oga=00;36:*.opus=00;36:*.spx=00;36:*.xspf=00;36:\n",
      "WAYLAND_DISPLAY=wayland-0\n",
      "CONDA_PROMPT_MODIFIER=(base) \n",
      "PYDEVD_USE_FRAME_EVAL=NO\n",
      "posts=/_posts\n",
      "LESSCLOSE=/usr/bin/lesspipe %s %s\n",
      "VSCODE_HANDLES_SIGPIPE=true\n",
      "TERM=xterm-256color\n",
      "_CE_CONDA=\n",
      "LESSOPEN=| /usr/bin/lesspipe %s\n",
      "USER=haoxuan\n",
      "PYTHONIOENCODING=utf-8\n",
      "notebooks=/_notebooks\n",
      "CONDA_SHLVL=1\n",
      "DISPLAY=:0\n",
      "SHLVL=1\n",
      "PAGER=cat\n",
      "VSCODE_CWD=/mnt/c/AAA/coding/Visual Studio/Microsoft VS Code\n",
      "CONDA_PYTHON_EXE=/home/haoxuan/anaconda3/bin/python\n",
      "XDG_RUNTIME_DIR=/mnt/wslg/runtime-dir\n",
      "PS1=[PEXP\\[\\]ECT_PROMPT>\n",
      "CONDA_DEFAULT_ENV=base\n",
      "WSLENV=VSCODE_WSL_EXT_LOCATION/up\n",
      "VSCODE_WSL_EXT_LOCATION=/mnt/c/Users/haoxu/.vscode/extensions/ms-vscode-remote.remote-wsl-0.72.0\n",
      "XDG_DATA_DIRS=/usr/local/share:/usr/share:/var/lib/snapd/desktop\n",
      "PATH=/home/haoxuan/.vscode-server/bin/129500ee4c8ab7263461ffe327268ba56b9f210d/bin/remote-cli:/home/haoxuan/.local/bin:/home/haoxuan/anaconda3/bin:/home/haoxuan/anaconda3/condabin:/usr/local/sbin:/usr/local/bin:/usr/sbin:/usr/bin:/sbin:/bin:/usr/games:/usr/local/games:/usr/lib/wsl/lib:/mnt/c/WINDOWS/system32:/mnt/c/WINDOWS:/mnt/c/WINDOWS/System32/Wbem:/mnt/c/WINDOWS/System32/WindowsPowerShell/v1.0:/mnt/c/WINDOWS/System32/OpenSSH:/mnt/c/Program Files/Intel/WiFi/bin:/mnt/c/Program Files/Common Files/Intel/WirelessCommon:/mnt/c/Program Files/Docker/Docker/resources/bin:/mnt/c/ProgramData/DockerDesktop/version-bin:/mnt/c/Users/haoxu/AppData/Local/Programs/Python/Python310/Scripts:/mnt/c/Users/haoxu/AppData/Local/Programs/Python/Python310:/mnt/c/Users/haoxu/AppData/Local/Microsoft/WindowsApps:/mnt/c/Users/haoxu/AppData/Local/JetBrains/PyCharm Community Edition 2019.2.3/bin:/mnt/c/AAA/coding/Visual Studio/Microsoft VS Code/bin:/mnt/c/Users/haoxu/AppData/Local/Programs/Git/cmd:/snap/bin\n",
      "VSCODE_NLS_CONFIG={\"locale\":\"en\",\"availableLanguages\":{}}\n",
      "HOSTTYPE=x86_64\n",
      "PULSE_SERVER=/mnt/wslg/PulseServer\n",
      "VSCODE_HANDLES_UNCAUGHT_ERRORS=true\n",
      "OLDPWD=/home/haoxuan\n",
      "VSCODE_IPC_HOOK_CLI=/mnt/wslg/runtime-dir/vscode-ipc-c6bbfe09-49c2-4921-95fa-d98203437b83.sock\n",
      "_=/usr/bin/env\n"
     ]
    }
   ],
   "source": [
    "# This command has no dependencies\n",
    "\n",
    "echo \"Show the shell environment variables, key on left of equal value on right\"\n",
    "echo \"\"\n",
    "\n",
    "env"
   ]
  },
  {
   "cell_type": "code",
   "execution_count": 7,
   "metadata": {
    "vscode": {
     "languageId": "shellscript"
    }
   },
   "outputs": [
    {
     "name": "stdout",
     "output_type": "stream",
     "text": [
      "\n",
      "show the secrets of .git\n",
      "bash: cd: .git: No such file or directory\n",
      "total 8\n",
      "drwxr-xr-x 28 haoxuan haoxuan 4096 Aug 30 15:01 \u001b[0m\u001b[01;34manaconda3\u001b[0m\n",
      "drwxr-xr-x  9 haoxuan haoxuan 4096 Oct 12 15:01 \u001b[01;34mvscode\u001b[0m\n",
      "\n",
      "look at config file\n",
      "cat: config: No such file or directory\n"
     ]
    },
    {
     "ename": "",
     "evalue": "1",
     "output_type": "error",
     "traceback": []
    }
   ],
   "source": [
    "# This command has dependencies on project\n",
    "\n",
    "cd $project\n",
    "\n",
    "echo \"\"\n",
    "echo \"show the secrets of .git\"\n",
    "cd .git\n",
    "ls -l\n",
    "\n",
    "echo \"\"\n",
    "echo \"look at config file\"\n",
    "cat config"
   ]
  },
  {
   "cell_type": "markdown",
   "metadata": {},
   "source": [
    "## Hacks\n",
    "> Go back to some of the deployment procedures and think about some thing you could verify through Bash notebook.\n",
    "\n",
    "- Is there anything we use to verify tools we install? Think about versions.\n",
    "- Is there anything we could verify with Anaconda?\n",
    "- How would you update a repository?\n",
    "- Really cool would be automating a procedure from installation.\n"
   ]
  }
 ],
 "metadata": {
  "kernelspec": {
   "display_name": "Bash",
   "language": "bash",
   "name": "bash"
  },
  "language_info": {
   "codemirror_mode": "shell",
   "file_extension": ".sh",
   "mimetype": "text/x-sh",
   "name": "bash"
  },
  "orig_nbformat": 4,
  "vscode": {
   "interpreter": {
    "hash": "6cac97597d61da8915590d7938cb01300eb5382de5befd835cbfa5d9eaea8bfe"
   }
  }
 },
 "nbformat": 4,
 "nbformat_minor": 2
}
