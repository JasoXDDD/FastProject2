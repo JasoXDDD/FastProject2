{
 "cells": [
  {
   "attachments": {},
   "cell_type": "markdown",
   "metadata": {},
   "source": [
    "#  Example database using cars\n",
    "> An example database that stores information of cars\n",
    "- toc: true"
   ]
  },
  {
   "attachments": {},
   "cell_type": "markdown",
   "metadata": {},
   "source": [
    "## Creating the Table\n",
    "Cell for creating the table\n"
   ]
  },
  {
   "attachments": {},
   "cell_type": "markdown",
   "metadata": {},
   "source": [
    "# CRUD\n",
    "\n",
    "This database stores planes and their stats, it implements CRUD using imperative programming\n",
    "\n",
    "## Create\n",
    "\n",
    "Importing the necessary modules and create function:"
   ]
  },
  {
   "cell_type": "code",
   "execution_count": 10,
   "metadata": {},
   "outputs": [
    {
     "name": "stdout",
     "output_type": "stream",
     "text": [
      "Error while executing the INSERT: no such table: cars\n"
     ]
    }
   ],
   "source": [
    "import sqlite3\n",
    "\n",
    "database = 'sqlite.db'\n",
    "\n",
    "\n",
    "def create_design(designation, price, max_speed, designe):\n",
    "    conn = sqlite3.connect(database)\n",
    "    c = conn.cursor()\n",
    "    \n",
    "    try:\n",
    "        # Execute an SQL command to insert data into a table\n",
    "        c.execute(\"INSERT INTO cars (designation, price, max_speed) VALUES (?, ?, ?, ?)\",\n",
    "              (designation, price, max_speed))\n",
    "                \n",
    "        # Commit the changes to the database\n",
    "        conn.commit()\n",
    "        print(f\"A new user record {designation} has been created with the data:\")\n",
    "        print((designation, price, max_speed))\n",
    "                \n",
    "    except sqlite3.Error as error:\n",
    "        print(\"Error while executing the INSERT:\", error)\n",
    "\n",
    "    c.close()\n",
    "    conn.close()\n",
    "    \n",
    "    \n",
    "create_design(\"Tesla 2022 model 3\", 38999, 162, \"Lockheed\")\n"
   ]
  },
  {
   "attachments": {},
   "cell_type": "markdown",
   "metadata": {},
   "source": [
    "This function takes four arguments (designation, price, max_speed, and designer) and inserts them into the \"designs\" table as a new record.\n",
    "\n",
    "## Read"
   ]
  },
  {
   "cell_type": "code",
   "execution_count": 6,
   "metadata": {},
   "outputs": [
    {
     "ename": "OperationalError",
     "evalue": "no such table: cars",
     "output_type": "error",
     "traceback": [
      "\u001b[0;31m---------------------------------------------------------------------------\u001b[0m",
      "\u001b[0;31mOperationalError\u001b[0m                          Traceback (most recent call last)",
      "\u001b[1;32m/home/haoxuan/vscode/FastProject2/_notebooks/2023-03-16-database-example.ipynb Cell 6\u001b[0m in \u001b[0;36m<cell line: 23>\u001b[0;34m()\u001b[0m\n\u001b[1;32m     <a href='vscode-notebook-cell://wsl%2Bubuntu/home/haoxuan/vscode/FastProject2/_notebooks/2023-03-16-database-example.ipynb#W4sdnNjb2RlLXJlbW90ZQ%3D%3D?line=19'>20</a>\u001b[0m     c\u001b[39m.\u001b[39mclose()\n\u001b[1;32m     <a href='vscode-notebook-cell://wsl%2Bubuntu/home/haoxuan/vscode/FastProject2/_notebooks/2023-03-16-database-example.ipynb#W4sdnNjb2RlLXJlbW90ZQ%3D%3D?line=20'>21</a>\u001b[0m     conn\u001b[39m.\u001b[39mclose()\n\u001b[0;32m---> <a href='vscode-notebook-cell://wsl%2Bubuntu/home/haoxuan/vscode/FastProject2/_notebooks/2023-03-16-database-example.ipynb#W4sdnNjb2RlLXJlbW90ZQ%3D%3D?line=22'>23</a>\u001b[0m read_design(\u001b[39m1\u001b[39;49m)\n",
      "\u001b[1;32m/home/haoxuan/vscode/FastProject2/_notebooks/2023-03-16-database-example.ipynb Cell 6\u001b[0m in \u001b[0;36mread_design\u001b[0;34m(id)\u001b[0m\n\u001b[1;32m      <a href='vscode-notebook-cell://wsl%2Bubuntu/home/haoxuan/vscode/FastProject2/_notebooks/2023-03-16-database-example.ipynb#W4sdnNjb2RlLXJlbW90ZQ%3D%3D?line=5'>6</a>\u001b[0m c \u001b[39m=\u001b[39m conn\u001b[39m.\u001b[39mcursor()\n\u001b[1;32m      <a href='vscode-notebook-cell://wsl%2Bubuntu/home/haoxuan/vscode/FastProject2/_notebooks/2023-03-16-database-example.ipynb#W4sdnNjb2RlLXJlbW90ZQ%3D%3D?line=7'>8</a>\u001b[0m \u001b[39m# Execute a SELECT statement to retrieve data from a table\u001b[39;00m\n\u001b[0;32m----> <a href='vscode-notebook-cell://wsl%2Bubuntu/home/haoxuan/vscode/FastProject2/_notebooks/2023-03-16-database-example.ipynb#W4sdnNjb2RlLXJlbW90ZQ%3D%3D?line=8'>9</a>\u001b[0m results \u001b[39m=\u001b[39m c\u001b[39m.\u001b[39;49mexecute(\u001b[39m'\u001b[39;49m\u001b[39mSELECT * FROM cars\u001b[39;49m\u001b[39m'\u001b[39;49m)\u001b[39m.\u001b[39mfetchall()\n\u001b[1;32m     <a href='vscode-notebook-cell://wsl%2Bubuntu/home/haoxuan/vscode/FastProject2/_notebooks/2023-03-16-database-example.ipynb#W4sdnNjb2RlLXJlbW90ZQ%3D%3D?line=10'>11</a>\u001b[0m \u001b[39m# Print the results\u001b[39;00m\n\u001b[1;32m     <a href='vscode-notebook-cell://wsl%2Bubuntu/home/haoxuan/vscode/FastProject2/_notebooks/2023-03-16-database-example.ipynb#W4sdnNjb2RlLXJlbW90ZQ%3D%3D?line=11'>12</a>\u001b[0m \u001b[39mif\u001b[39;00m \u001b[39mlen\u001b[39m(results) \u001b[39m==\u001b[39m \u001b[39m0\u001b[39m:\n",
      "\u001b[0;31mOperationalError\u001b[0m: no such table: cars"
     ]
    }
   ],
   "source": [
    "def read_design(id):\n",
    "    # Connect to the database file\n",
    "    conn = sqlite3.connect(database)\n",
    "\n",
    "    # Create a cursor object to execute SQL queries\n",
    "    c = conn.cursor()\n",
    "    \n",
    "    # Execute a SELECT statement to retrieve data from a table\n",
    "    results = c.execute('SELECT * FROM cars').fetchall()\n",
    "\n",
    "    # Print the results\n",
    "    if len(results) == 0:\n",
    "        print(\"Table is empty\")\n",
    "    else:\n",
    "        for row in results:\n",
    "            if row[0] == id:\n",
    "                print(row)\n",
    "\n",
    "    # Close the cursor and connection objects\n",
    "    c.close()\n",
    "    conn.close()\n",
    "    \n",
    "read_design(1)"
   ]
  },
  {
   "attachments": {},
   "cell_type": "markdown",
   "metadata": {},
   "source": [
    "This function takes a design ID as an argument and returns the record from the \"designs\" table that matches that ID.\n",
    "\n",
    "## Update"
   ]
  },
  {
   "cell_type": "code",
   "execution_count": 7,
   "metadata": {},
   "outputs": [
    {
     "ename": "OperationalError",
     "evalue": "no such table: cars",
     "output_type": "error",
     "traceback": [
      "\u001b[0;31m---------------------------------------------------------------------------\u001b[0m",
      "\u001b[0;31mOperationalError\u001b[0m                          Traceback (most recent call last)",
      "\u001b[1;32m/home/haoxuan/vscode/FastProject2/_notebooks/2023-03-16-database-example.ipynb Cell 8\u001b[0m in \u001b[0;36m<cell line: 21>\u001b[0;34m()\u001b[0m\n\u001b[1;32m     <a href='vscode-notebook-cell://wsl%2Bubuntu/home/haoxuan/vscode/FastProject2/_notebooks/2023-03-16-database-example.ipynb#W6sdnNjb2RlLXJlbW90ZQ%3D%3D?line=17'>18</a>\u001b[0m     c\u001b[39m.\u001b[39mclose()\n\u001b[1;32m     <a href='vscode-notebook-cell://wsl%2Bubuntu/home/haoxuan/vscode/FastProject2/_notebooks/2023-03-16-database-example.ipynb#W6sdnNjb2RlLXJlbW90ZQ%3D%3D?line=18'>19</a>\u001b[0m     conn\u001b[39m.\u001b[39mclose()\n\u001b[0;32m---> <a href='vscode-notebook-cell://wsl%2Bubuntu/home/haoxuan/vscode/FastProject2/_notebooks/2023-03-16-database-example.ipynb#W6sdnNjb2RlLXJlbW90ZQ%3D%3D?line=20'>21</a>\u001b[0m update_design(\u001b[39m2\u001b[39;49m, \u001b[39mNone\u001b[39;49;00m, \u001b[39mNone\u001b[39;49;00m, \u001b[39m498\u001b[39;49m)\n",
      "\u001b[1;32m/home/haoxuan/vscode/FastProject2/_notebooks/2023-03-16-database-example.ipynb Cell 8\u001b[0m in \u001b[0;36mupdate_design\u001b[0;34m(design_id, designation, price, max_speed)\u001b[0m\n\u001b[1;32m     <a href='vscode-notebook-cell://wsl%2Bubuntu/home/haoxuan/vscode/FastProject2/_notebooks/2023-03-16-database-example.ipynb#W6sdnNjb2RlLXJlbW90ZQ%3D%3D?line=10'>11</a>\u001b[0m     update_dict[\u001b[39m\"\u001b[39m\u001b[39mmax_speed\u001b[39m\u001b[39m\"\u001b[39m] \u001b[39m=\u001b[39m max_speed\n\u001b[1;32m     <a href='vscode-notebook-cell://wsl%2Bubuntu/home/haoxuan/vscode/FastProject2/_notebooks/2023-03-16-database-example.ipynb#W6sdnNjb2RlLXJlbW90ZQ%3D%3D?line=12'>13</a>\u001b[0m update_str \u001b[39m=\u001b[39m \u001b[39m\"\u001b[39m\u001b[39m, \u001b[39m\u001b[39m\"\u001b[39m\u001b[39m.\u001b[39mjoin([\u001b[39mf\u001b[39m\u001b[39m\"\u001b[39m\u001b[39m{\u001b[39;00mcol\u001b[39m}\u001b[39;00m\u001b[39m=? \u001b[39m\u001b[39m\"\u001b[39m \u001b[39mfor\u001b[39;00m col \u001b[39min\u001b[39;00m update_dict\u001b[39m.\u001b[39mkeys()])\n\u001b[0;32m---> <a href='vscode-notebook-cell://wsl%2Bubuntu/home/haoxuan/vscode/FastProject2/_notebooks/2023-03-16-database-example.ipynb#W6sdnNjb2RlLXJlbW90ZQ%3D%3D?line=13'>14</a>\u001b[0m c\u001b[39m.\u001b[39;49mexecute(\u001b[39mf\u001b[39;49m\u001b[39m\"\u001b[39;49m\u001b[39mUPDATE cars SET \u001b[39;49m\u001b[39m{\u001b[39;49;00mupdate_str\u001b[39m}\u001b[39;49;00m\u001b[39m WHERE id=?\u001b[39;49m\u001b[39m\"\u001b[39;49m, (\u001b[39m*\u001b[39;49mupdate_dict\u001b[39m.\u001b[39;49mvalues(), design_id))\n\u001b[1;32m     <a href='vscode-notebook-cell://wsl%2Bubuntu/home/haoxuan/vscode/FastProject2/_notebooks/2023-03-16-database-example.ipynb#W6sdnNjb2RlLXJlbW90ZQ%3D%3D?line=14'>15</a>\u001b[0m conn\u001b[39m.\u001b[39mcommit()\n\u001b[1;32m     <a href='vscode-notebook-cell://wsl%2Bubuntu/home/haoxuan/vscode/FastProject2/_notebooks/2023-03-16-database-example.ipynb#W6sdnNjb2RlLXJlbW90ZQ%3D%3D?line=15'>16</a>\u001b[0m \u001b[39mprint\u001b[39m(read_design(design_id))\n",
      "\u001b[0;31mOperationalError\u001b[0m: no such table: cars"
     ]
    }
   ],
   "source": [
    "def update_design(design_id, designation=None, price=None, max_speed=None):\n",
    "    conn = sqlite3.connect(database)\n",
    "    c = conn.cursor()\n",
    "    update_dict = {}\n",
    "    \n",
    "    if designation is not None:\n",
    "        update_dict[\"designation\"] = designation\n",
    "    if price is not None:\n",
    "        update_dict[\"price\"] = price\n",
    "    if max_speed is not None:\n",
    "        update_dict[\"max_speed\"] = max_speed\n",
    "        \n",
    "    update_str = \", \".join([f\"{col}=? \" for col in update_dict.keys()])\n",
    "    c.execute(f\"UPDATE cars SET {update_str} WHERE id=?\", (*update_dict.values(), design_id))\n",
    "    conn.commit()\n",
    "    print(read_design(design_id))\n",
    "    \n",
    "    c.close()\n",
    "    conn.close()\n",
    "    \n",
    "update_design(2, None, None, 498)"
   ]
  },
  {
   "attachments": {},
   "cell_type": "markdown",
   "metadata": {},
   "source": [
    "This function takes a design ID and any combination of the other four arguments as keyword arguments. It updates the record in the \"designs\" table that matches the ID with the new values provided.\n",
    "\n",
    "## Delete"
   ]
  },
  {
   "cell_type": "code",
   "execution_count": 8,
   "metadata": {},
   "outputs": [
    {
     "ename": "OperationalError",
     "evalue": "no such table: cars",
     "output_type": "error",
     "traceback": [
      "\u001b[0;31m---------------------------------------------------------------------------\u001b[0m",
      "\u001b[0;31mOperationalError\u001b[0m                          Traceback (most recent call last)",
      "\u001b[1;32m/home/haoxuan/vscode/FastProject2/_notebooks/2023-03-16-database-example.ipynb Cell 10\u001b[0m in \u001b[0;36m<cell line: 11>\u001b[0;34m()\u001b[0m\n\u001b[1;32m      <a href='vscode-notebook-cell://wsl%2Bubuntu/home/haoxuan/vscode/FastProject2/_notebooks/2023-03-16-database-example.ipynb#X11sdnNjb2RlLXJlbW90ZQ%3D%3D?line=7'>8</a>\u001b[0m     conn\u001b[39m.\u001b[39mcommit()\n\u001b[1;32m      <a href='vscode-notebook-cell://wsl%2Bubuntu/home/haoxuan/vscode/FastProject2/_notebooks/2023-03-16-database-example.ipynb#X11sdnNjb2RlLXJlbW90ZQ%3D%3D?line=8'>9</a>\u001b[0m     conn\u001b[39m.\u001b[39mclose()\n\u001b[0;32m---> <a href='vscode-notebook-cell://wsl%2Bubuntu/home/haoxuan/vscode/FastProject2/_notebooks/2023-03-16-database-example.ipynb#X11sdnNjb2RlLXJlbW90ZQ%3D%3D?line=10'>11</a>\u001b[0m delete_design(\u001b[39m2\u001b[39;49m)\n",
      "\u001b[1;32m/home/haoxuan/vscode/FastProject2/_notebooks/2023-03-16-database-example.ipynb Cell 10\u001b[0m in \u001b[0;36mdelete_design\u001b[0;34m(design_id)\u001b[0m\n\u001b[1;32m      <a href='vscode-notebook-cell://wsl%2Bubuntu/home/haoxuan/vscode/FastProject2/_notebooks/2023-03-16-database-example.ipynb#X11sdnNjb2RlLXJlbW90ZQ%3D%3D?line=1'>2</a>\u001b[0m conn \u001b[39m=\u001b[39m sqlite3\u001b[39m.\u001b[39mconnect(database)\n\u001b[1;32m      <a href='vscode-notebook-cell://wsl%2Bubuntu/home/haoxuan/vscode/FastProject2/_notebooks/2023-03-16-database-example.ipynb#X11sdnNjb2RlLXJlbW90ZQ%3D%3D?line=2'>3</a>\u001b[0m c \u001b[39m=\u001b[39m conn\u001b[39m.\u001b[39mcursor()\n\u001b[0;32m----> <a href='vscode-notebook-cell://wsl%2Bubuntu/home/haoxuan/vscode/FastProject2/_notebooks/2023-03-16-database-example.ipynb#X11sdnNjb2RlLXJlbW90ZQ%3D%3D?line=4'>5</a>\u001b[0m \u001b[39mprint\u001b[39m(read_design(design_id))\n\u001b[1;32m      <a href='vscode-notebook-cell://wsl%2Bubuntu/home/haoxuan/vscode/FastProject2/_notebooks/2023-03-16-database-example.ipynb#X11sdnNjb2RlLXJlbW90ZQ%3D%3D?line=5'>6</a>\u001b[0m c\u001b[39m.\u001b[39mexecute(\u001b[39m\"\u001b[39m\u001b[39mDELETE FROM planes WHERE id=?\u001b[39m\u001b[39m\"\u001b[39m, (design_id,))\n\u001b[1;32m      <a href='vscode-notebook-cell://wsl%2Bubuntu/home/haoxuan/vscode/FastProject2/_notebooks/2023-03-16-database-example.ipynb#X11sdnNjb2RlLXJlbW90ZQ%3D%3D?line=7'>8</a>\u001b[0m conn\u001b[39m.\u001b[39mcommit()\n",
      "\u001b[1;32m/home/haoxuan/vscode/FastProject2/_notebooks/2023-03-16-database-example.ipynb Cell 10\u001b[0m in \u001b[0;36mread_design\u001b[0;34m(id)\u001b[0m\n\u001b[1;32m      <a href='vscode-notebook-cell://wsl%2Bubuntu/home/haoxuan/vscode/FastProject2/_notebooks/2023-03-16-database-example.ipynb#X11sdnNjb2RlLXJlbW90ZQ%3D%3D?line=5'>6</a>\u001b[0m c \u001b[39m=\u001b[39m conn\u001b[39m.\u001b[39mcursor()\n\u001b[1;32m      <a href='vscode-notebook-cell://wsl%2Bubuntu/home/haoxuan/vscode/FastProject2/_notebooks/2023-03-16-database-example.ipynb#X11sdnNjb2RlLXJlbW90ZQ%3D%3D?line=7'>8</a>\u001b[0m \u001b[39m# Execute a SELECT statement to retrieve data from a table\u001b[39;00m\n\u001b[0;32m----> <a href='vscode-notebook-cell://wsl%2Bubuntu/home/haoxuan/vscode/FastProject2/_notebooks/2023-03-16-database-example.ipynb#X11sdnNjb2RlLXJlbW90ZQ%3D%3D?line=8'>9</a>\u001b[0m results \u001b[39m=\u001b[39m c\u001b[39m.\u001b[39;49mexecute(\u001b[39m'\u001b[39;49m\u001b[39mSELECT * FROM cars\u001b[39;49m\u001b[39m'\u001b[39;49m)\u001b[39m.\u001b[39mfetchall()\n\u001b[1;32m     <a href='vscode-notebook-cell://wsl%2Bubuntu/home/haoxuan/vscode/FastProject2/_notebooks/2023-03-16-database-example.ipynb#X11sdnNjb2RlLXJlbW90ZQ%3D%3D?line=10'>11</a>\u001b[0m \u001b[39m# Print the results\u001b[39;00m\n\u001b[1;32m     <a href='vscode-notebook-cell://wsl%2Bubuntu/home/haoxuan/vscode/FastProject2/_notebooks/2023-03-16-database-example.ipynb#X11sdnNjb2RlLXJlbW90ZQ%3D%3D?line=11'>12</a>\u001b[0m \u001b[39mif\u001b[39;00m \u001b[39mlen\u001b[39m(results) \u001b[39m==\u001b[39m \u001b[39m0\u001b[39m:\n",
      "\u001b[0;31mOperationalError\u001b[0m: no such table: cars"
     ]
    }
   ],
   "source": [
    "def delete_design(design_id):\n",
    "    conn = sqlite3.connect(database)\n",
    "    c = conn.cursor()\n",
    "    \n",
    "    print(read_design(design_id))\n",
    "    c.execute(\"DELETE FROM planes WHERE id=?\", (design_id,))\n",
    "    \n",
    "    conn.commit()\n",
    "    conn.close()\n",
    "    \n",
    "delete_design(2)"
   ]
  },
  {
   "attachments": {},
   "cell_type": "markdown",
   "metadata": {},
   "source": [
    "This function takes a design ID as an argument and deletes the record from the \"designs\" table that matches that ID."
   ]
  },
  {
   "attachments": {},
   "cell_type": "markdown",
   "metadata": {},
   "source": [
    "## Menu"
   ]
  },
  {
   "cell_type": "code",
   "execution_count": 9,
   "metadata": {},
   "outputs": [
    {
     "name": "stdout",
     "output_type": "stream",
     "text": [
      "Perform Jupyter 'Run All' prior to starting menu\n"
     ]
    }
   ],
   "source": [
    "# Menu, to run other cells from one control point\n",
    "def menu():\n",
    "    operation = input(\"Enter: (C)reate (R)ead (U)pdate or (D)elete or (S)chema\")\n",
    "    if operation.lower() == 'c':\n",
    "        create()\n",
    "    elif operation.lower() == 'r':\n",
    "        read()\n",
    "    elif operation.lower() == 'u':\n",
    "        update()\n",
    "    elif operation.lower() == 'd':\n",
    "        delete()\n",
    "    elif operation.lower() == 's':\n",
    "        schema()\n",
    "    elif len(operation)==0: # Escape Key\n",
    "        return\n",
    "    else:\n",
    "        print(\"Please enter c, r, u, or d\") \n",
    "    menu() # recursion, repeat menu\n",
    "        \n",
    "try:\n",
    "    menu() # start menu\n",
    "except:\n",
    "    print(\"Perform Jupyter 'Run All' prior to starting menu\")"
   ]
  }
 ],
 "metadata": {
  "kernelspec": {
   "display_name": "base",
   "language": "python",
   "name": "python3"
  },
  "language_info": {
   "codemirror_mode": {
    "name": "ipython",
    "version": 3
   },
   "file_extension": ".py",
   "mimetype": "text/x-python",
   "name": "python",
   "nbconvert_exporter": "python",
   "pygments_lexer": "ipython3",
   "version": "3.9.12"
  },
  "orig_nbformat": 4
 },
 "nbformat": 4,
 "nbformat_minor": 2
}
