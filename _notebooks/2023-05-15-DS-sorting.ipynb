{
 "cells": [
  {
   "attachments": {},
   "cell_type": "markdown",
   "metadata": {},
   "source": [
    "# Sorting Algorithms\n",
    "> Working with Data Structures and manipulating data.\n",
    "\n",
    "- toc: true\n",
    "- categories: []\n",
    "- type: pbl\n",
    "- week: 34"
   ]
  },
  {
   "attachments": {},
   "cell_type": "markdown",
   "metadata": {},
   "source": [
    "[wget link](https://raw.githubusercontent.com/nighthawkcoders/APCSP/master/_notebooks/2023-05-15-DS-sorting.ipynb)"
   ]
  },
  {
   "cell_type": "code",
   "execution_count": 1,
   "metadata": {},
   "outputs": [
    {
     "name": "stdout",
     "output_type": "stream",
     "text": [
      "Random List\n",
      "[70, 88, 8, 54, 95, 47, 71, 90, 20, 36]\n"
     ]
    }
   ],
   "source": [
    "import random\n",
    "\n",
    "numbers = []\n",
    "for i in range(10):\n",
    "    numbers.append(random.randint(0,100))\n",
    "print(\"Random List\")\n",
    "print(numbers)"
   ]
  },
  {
   "attachments": {},
   "cell_type": "markdown",
   "metadata": {},
   "source": [
    "# Warm Up\n",
    "\n",
    "> Discuss with a partner... \n",
    "What are some strategies you would use to sort this list? (Don't worry about writing code for now)\n",
    "- Try to get the samllest element and place it to the beginning, then repeat"
   ]
  },
  {
   "attachments": {},
   "cell_type": "markdown",
   "metadata": {},
   "source": [
    "# Explore\n",
    "\n",
    "Get into groups of 3\n",
    "\n",
    "We will be focusing on 4 algorithms today.\n",
    "\n",
    "We will look at the first one together, Bubble Sort\n",
    "\n",
    "![](images/bubble-sort.png)\n",
    "\n",
    "What is happening with this sort?\n",
    "Starting from the bottom, switch around the elements if they are not in the right order until everything is sorted.\n",
    "\n",
    "In your groups you will each choose to be an expert on a sorting algorithm. Merge, Selection, and Insertion.\n",
    "Take about 5 minutes to read about your algorithm and be ready to explain it to your other group members. \n",
    "\n",
    "[Merge](https://www.geeksforgeeks.org/merge-sort/#)\n",
    "\n",
    "[Selection](https://www.geeksforgeeks.org/selection-sort/)\n",
    "\n",
    "[Insertion](https://www.geeksforgeeks.org/insertion-sort/)"
   ]
  },
  {
   "attachments": {},
   "cell_type": "markdown",
   "metadata": {},
   "source": [
    "## Practice\n",
    "\n",
    "[75, 17, 46, 80, 67, 45, 69, 79, 40, 0]\n",
    "\n",
    "How would you sort this list with... \n",
    "- Bubble Sort\n",
    "- Selection Sort\n",
    "> Explain.\n",
    "\n",
    "Start with the first 2, since 17<75, we switch them and get [17, 75, 46, 80, 67, 45, 69, 79, 40, 0]\n",
    "\n",
    "then, since 46<75, we get [17, 46, 75, 80, 67, 45, 69, 79, 40, 0]\n",
    "\n",
    "then, since 80>75, we don't switch them\n",
    "\n",
    "then, we switch 67 and 80, getting [17, 46, 75, 67, 80, 45, 69, 79, 40, 0]\n",
    "\n",
    "We repeat this for the whole list, when we are done, we are left with [17, 46, 75, 67, 45, 69, 79, 40, 0, 80]\n",
    "\n",
    "The list is still unsorted so we repeat the process from the beginning until we don't make any new changes\n",
    "\n",
    "[17, 46, 67, 45, 69, 75, 40, 0, 79, 80]\n",
    "\n",
    "[17, 46, 45, 67, 69, 40, 0, 75, 79, 80]\n",
    "\n",
    "[17, 45, 46, 67, 40, 0, 69, 75, 79, 80]\n",
    "\n",
    "[17, 45, 46, 40, 0, 67, 69, 75, 79, 80]\n",
    "\n",
    "[17, 45, 40, 0, 46, 67, 69, 75, 79, 80]\n",
    "\n",
    "[17, 40, 0, 45, 46, 67, 69, 75, 79, 80]\n",
    "\n",
    "[17, 0, 40, 45, 46, 67, 69, 75, 79, 80]\n",
    "\n",
    "[0, 17, 40, 45, 46, 67, 69, 75, 79, 80]\n",
    "\n",
    "For selection sort, we repeated select the smallest element in the unsorted part of the array and place it at the end of the sorted part of the array\n",
    "\n",
    "With | separating between the unsorted and sorted parts (in actual code we store this in an index)\n",
    "\n",
    "[|75, 17, 46, 80, 67, 45, 69, 79, 40, 0]\n",
    "\n",
    "We select the smallest value(0) and place it in the rightmost of the sorted array [0| 75, 17, 46, 80, 67, 45, 69, 79, 40]\n",
    "\n",
    "We repeat this, getting 17 and placing it to the right of the 0 [0, 17| 75, 46, 80, 67, 45, 69, 79, 40]\n",
    "\n",
    "We repeat this until everything is sorted\n",
    "\n",
    "[0, 17| 75, 46, 80, 67, 45, 69, 79, 40]\n",
    "\n",
    "[0, 17, 40| 75, 46, 80, 67, 45, 69, 79]\n",
    "\n",
    "[0, 17, 40, 45| 75, 46, 80, 67, 69, 79]\n",
    "\n",
    "[0, 17, 40, 45, 46| 75, 80, 67, 69, 79]\n",
    "\n",
    "[0, 17, 40, 45, 46, 67| 75, 80, 69, 79]\n",
    "\n",
    "[0, 17, 40, 45, 46, 67, 69| 75, 80, 79]\n",
    "\n",
    "[0, 17, 40, 45, 46, 67, 69, 75| 80, 79]\n",
    "\n",
    "[0, 17, 40, 45, 46, 67, 69, 75, 79| 80]\n",
    "\n",
    "[0, 17, 40, 45, 46, 67, 69, 75, 78, 80|]\n",
    "\n",
    "[88, 39, 53, 39, 58, 43, 74, 81, 71, 51]\n",
    "\n",
    "How would you sort this list with... \n",
    "- Merge Sort\n",
    "\n",
    "We split the array until the subarrays are of sizes 1\n",
    "\n",
    "Then, we combine the elements back again until everything is sorted, under the logic that each oc the subarrays are sorted when they are merged.\n",
    "\n",
    "- Insertion Sort\n",
    "For each element, we insert them into the sorted parts of the array until they are in their right spots, until we reach the end of the array.\n",
    "\n",
    "> Explain.\n"
   ]
  },
  {
   "attachments": {},
   "cell_type": "markdown",
   "metadata": {},
   "source": [
    "# Sorting Words\n",
    "> Sorting strings works in the same way as integers. Using your expertise algorithm, sort the following list of random words."
   ]
  },
  {
   "cell_type": "code",
   "execution_count": 8,
   "metadata": {},
   "outputs": [
    {
     "name": "stdout",
     "output_type": "stream",
     "text": [
      "Random List\n",
      "['commerciality', 'proofing', 'asceticism', 'Hosta', 'sirree', 'manumission', 'cabezon', 'putschism', 'pemphigus', 'nonecclesiastical']\n",
      "Sorted List\n",
      "['asceticism', 'cabezon', 'commerciality', 'Hosta', 'manumission', 'nonecclesiastical', 'pemphigus', 'proofing', 'putschism', 'sirree']\n"
     ]
    },
    {
     "name": "stderr",
     "output_type": "stream",
     "text": [
      "[nltk_data] Downloading package words to /home/haoxuan/nltk_data...\n",
      "[nltk_data]   Package words is already up-to-date!\n"
     ]
    }
   ],
   "source": [
    "import nltk\n",
    "import random\n",
    "\n",
    "nltk.download('words')  # Download the word list (only required once)\n",
    "\n",
    "from nltk.corpus import words\n",
    "\n",
    "english_words = words.words()\n",
    "#print(len(english_words))  # Prints the number of words in the list\n",
    "\n",
    "# You can now use the 'english_words' list in your code\n",
    "\n",
    "words = []\n",
    "for i in range(10):\n",
    "    words.append(english_words[random.randint(0,len(english_words))])\n",
    "print(\"Random List\")\n",
    "print(words)\n",
    "\n",
    "for i in range(1, len(words)):\n",
    "    selected = words[i]\n",
    "    j = i-1\n",
    "    while words[j].lower() > selected.lower() and j>=0:\n",
    "        temp = words[j]\n",
    "        words[j] = words[j+1]\n",
    "        words[j+1] = temp\n",
    "        j-=1\n",
    "print(\"Sorted List\")\n",
    "print(words)"
   ]
  },
  {
   "attachments": {},
   "cell_type": "markdown",
   "metadata": {},
   "source": [
    "## Discuss \n",
    "Answer the following with your group.\n",
    "\n",
    "- When should you use each algorithm? What makes an algorithm the right choice?\n",
    "Merge sort has a worst time complexity of O(NlogN), making the ideal choice when considering large datasets\n",
    "Insertion, Selection, an Bubble sorts work\n",
    "- Given the following lists...\n",
    "    - [0, 2, 6, 4, 8, 10]\n",
    "    - [Elephant, Banana, Cat, Dog, Apple]\n",
    "    - [29, 13, 83, 47, 32, 78, 100, 60, 65, 15, 24, 9, 40, 68, 53, 8, 90, 58, 39, 32, 34, 91, 74, 94, 49, 87, 34, 87, 23, 17, 27, 2, 38, 58, 84, 15, 9, 46, 74, 40, 44, 8, 55, 28, 81, 92, 81, 88, 53, 38, 19, 21, 9, 54, 21, 67, 3, 41, 3, 74, 13, 71, 70, 45, 5, 36, 80, 64, 97, 86, 73, 74, 94, 79, 49, 32, 20, 68, 64, 69, 1, 77, 31, 56, 100, 80, 48, 75, 85, 93, 67, 57, 26, 56, 43, 53, 59, 28, 67, 50]\n",
    "Select the algorithm you believe is best for each, explain."
   ]
  },
  {
   "attachments": {},
   "cell_type": "markdown",
   "metadata": {},
   "source": [
    "## HACKS\n",
    "> Provided below is a Bubble Sort Algorithm sorting a list of dictionaries based off of selected key.\n",
    "\n",
    "- Now it's time to do some coding...\n",
    "\n",
    "- Run code and then research and answer these questions...\n",
    "    - Is a list and/or dictionary in python considered a primitive or collection type?  Why?\n",
    "        - Collection, since they store multiple values\n",
    "    - Is the list passed into bubble sort \"pass-by-value\" or \"pass-by-reference? Describe why in relation to output.\n",
    "        - Pass by reference, since the original list is modified as the program runs\n",
    "\n",
    "- Implement new cell(s) and/or organize cells to do the following.\n",
    "    - Create your own list\n",
    "    - Use your expertise sorting algorithm (selection, insertion, merge). Note, I got my bubble sort from Geek for Geeks and made modifications. Each student in a group should have a unique algorithm.\n",
    "    - Test your list with my bubble sort\n",
    "    - Test my list with your new sort, do NOT make a copy my list when doing this\n",
    "    - Research analysis on sorting: comparisons, swaps, time.  Build this into your hacks.\n",
    "    - Find a better way to print the data, key first, then other elements in viewable form.\n",
    "\n",
    "Use the code below to help guide your adventure"
   ]
  },
  {
   "cell_type": "code",
   "execution_count": 1,
   "metadata": {},
   "outputs": [
    {
     "name": "stdout",
     "output_type": "stream",
     "text": [
      "Original\n",
      "[{'name': 'Risa', 'age': 18, 'city': 'New York'}, {'name': 'John', 'age': 63, 'city': 'Eugene'}, {'name': 'Shekar', 'age': 18, 'city': 'San Francisco'}, {'name': 'Ryan', 'age': 21, 'city': 'Los Angeles'}]\n",
      "name\n",
      "[{'name': 'John', 'age': 63, 'city': 'Eugene'}, {'name': 'Risa', 'age': 18, 'city': 'New York'}, {'name': 'Ryan', 'age': 21, 'city': 'Los Angeles'}, {'name': 'Shekar', 'age': 18, 'city': 'San Francisco'}]\n",
      "age\n",
      "[{'name': 'Risa', 'age': 18, 'city': 'New York'}, {'name': 'Shekar', 'age': 18, 'city': 'San Francisco'}, {'name': 'Ryan', 'age': 21, 'city': 'Los Angeles'}, {'name': 'John', 'age': 63, 'city': 'Eugene'}]\n",
      "city\n",
      "[{'name': 'John', 'age': 63, 'city': 'Eugene'}, {'name': 'Ryan', 'age': 21, 'city': 'Los Angeles'}, {'name': 'Risa', 'age': 18, 'city': 'New York'}, {'name': 'Shekar', 'age': 18, 'city': 'San Francisco'}]\n"
     ]
    }
   ],
   "source": [
    "\"\"\"\n",
    "* Creator: Nighthawk Coding Society\n",
    "Bubble Sort of a List with optimizations\n",
    "\"\"\"\n",
    "\n",
    "# bubble sorts a list of dictionaries, base off of provided key\n",
    "def bubbleSort(list, key):\n",
    "    n = len(list) - 1  # list are indexed 0 to n-1, len is n\n",
    "    \n",
    "    # Traverse through list with i index\n",
    "    for i in range(n):\n",
    "        swapped = False  # optimize code, so it exits if now swaps on inner loop\n",
    "\n",
    "        # Inner traversal using j index\n",
    "        for j in range(n-i):  # n-i as positions on right are in order in bubble\n",
    " \n",
    "            # Swap if the element KeyN is greater KeyN1\n",
    "            keyN = list[j].get(key)\n",
    "            keyN1 = list[j+1].get(key)\n",
    "            if keyN > keyN1:\n",
    "                swapped = True\n",
    "                list[j], list[j + 1] = list[j + 1], list[j]  # single line swap\n",
    "         \n",
    "        if not swapped:  # if no swaps on inner pass, list is sorted\n",
    "            return  # exit function\n",
    "    \n",
    "\n",
    "if __name__ == \"__main__\":\n",
    "    # list/dictionary sample\n",
    "    list_of_people = [\n",
    "    {\"name\": \"Risa\", \"age\": 18, \"city\": \"New York\"},\n",
    "    {\"name\": \"John\", \"age\": 63, \"city\": \"Eugene\"},\n",
    "    {\"name\": \"Shekar\", \"age\": 18, \"city\": \"San Francisco\"},\n",
    "    {\"name\": \"Ryan\", \"age\": 21, \"city\": \"Los Angeles\"}\n",
    "    ]\n",
    "    \n",
    "    # assuming uniform keys, pick 1st row as source of keys\n",
    "    key_row = list_of_people[0]\n",
    "\n",
    "    # print list as defined\n",
    "    print(\"Original\")\n",
    "    print(list_of_people)\n",
    "    \n",
    "    for key in key_row:  # finds each key in the row\n",
    "        print(key)\n",
    "        bubbleSort(list_of_people, key)  # sort list of people\n",
    "        print(list_of_people)"
   ]
  },
  {
   "cell_type": "code",
   "execution_count": 5,
   "metadata": {},
   "outputs": [
    {
     "name": "stdout",
     "output_type": "stream",
     "text": [
      "insert sort\n",
      "Insert Sorted List\n",
      "[{'name': 'Costco', 'price': 4.53}, {'name': 'ARCO', 'price': 4.7}, {'name': 'Hawthrown', 'price': 5.3}, {'name': 'Chevron', 'price': 5.4}, {'name': 'Shell', 'price': 5.53}]\n",
      "Time taken: 0.00020003318786621094 seconds\n"
     ]
    }
   ],
   "source": [
    "import time\n",
    "gas_prices = [\n",
    "    {\"name\": \"Costco\", \"price\": 4.53},\n",
    "    {\"name\": \"Shell\", \"price\": 5.53},\n",
    "    {\"name\": \"Chevron\", \"price\": 5.40},\n",
    "    {\"name\": \"Hawthrown\", \"price\": 5.30},\n",
    "    {\"name\": \"ARCO\", \"price\": 4.70}\n",
    "]\n",
    "print(\"insert sort\")\n",
    "start_time = time.time()\n",
    "isort = gas_prices.copy()\n",
    "for i in range(1, len(isort)):\n",
    "    selected = isort[i]\n",
    "    j = i-1\n",
    "    while isort[j][\"price\"] > selected[\"price\"] and j>=0:\n",
    "        temp = isort[j]\n",
    "        isort[j] = isort[j+1]\n",
    "        isort[j+1] = temp\n",
    "        j-=1\n",
    "end_time = time.time()\n",
    "print(\"Insert Sorted List\")\n",
    "print(isort)\n",
    "print(\"Time taken:\", end_time - start_time, \"seconds\")"
   ]
  }
 ],
 "metadata": {
  "kernelspec": {
   "display_name": "base",
   "language": "python",
   "name": "python3"
  },
  "language_info": {
   "codemirror_mode": {
    "name": "ipython",
    "version": 3
   },
   "file_extension": ".py",
   "mimetype": "text/x-python",
   "name": "python",
   "nbconvert_exporter": "python",
   "pygments_lexer": "ipython3",
   "version": "3.9.12"
  },
  "orig_nbformat": 4
 },
 "nbformat": 4,
 "nbformat_minor": 2
}
